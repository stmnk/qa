{
 "cells": [
  {
   "cell_type": "markdown",
   "metadata": {},
   "source": [
    "Import utilities"
   ]
  },
  {
   "cell_type": "code",
   "execution_count": 1,
   "metadata": {},
   "outputs": [],
   "source": [
    "import gzip\n",
    "import shutil"
   ]
  },
  {
   "cell_type": "markdown",
   "metadata": {},
   "source": [
    "Extract a `.gz` file"
   ]
  },
  {
   "cell_type": "code",
   "execution_count": 2,
   "metadata": {},
   "outputs": [],
   "source": [
    "with gzip.open(f'nq-dev-00.jsonl.gz', 'rb') as f_in:\n",
    "    with open(f'nq-dev-00.jsonl', 'wb') as f_out:\n",
    "        shutil.copyfileobj(f_in, f_out)"
   ]
  },
  {
   "cell_type": "markdown",
   "metadata": {},
   "source": [
    "Read data from a `.jsonl` file"
   ]
  },
  {
   "cell_type": "code",
   "execution_count": 5,
   "metadata": {},
   "outputs": [],
   "source": [
    "import json\n",
    "from pandas.io.json import json_normalize\n",
    "import pandas as pd\n",
    "\n",
    "def read_jsonl(input_path) -> list:\n",
    "    \"\"\"\n",
    "    Read list of objects from a JSON lines file.\n",
    "    \"\"\"\n",
    "    data = []\n",
    "    with open(input_path, 'r', encoding='utf-8') as f:\n",
    "        for line in f:\n",
    "            data.append(json.loads(line.rstrip('\\n|\\r')))\n",
    "    print(f'Loaded {len(data)} records from {input_path}'\n",
    "    return data"
   ]
  },
  {
   "cell_type": "markdown",
   "metadata": {},
   "source": [
    "Inspect the data frame"
   ]
  },
  {
   "cell_type": "code",
   "execution_count": 27,
   "metadata": {},
   "outputs": [
    {
     "name": "stdout",
     "output_type": "stream",
     "text": "Loaded 1600 records from nq-dev-00.jsonl\n"
    },
    {
     "data": {
      "text/html": "<div>\n<style scoped>\n    .dataframe tbody tr th:only-of-type {\n        vertical-align: middle;\n    }\n\n    .dataframe tbody tr th {\n        vertical-align: top;\n    }\n\n    .dataframe thead th {\n        text-align: right;\n    }\n</style>\n<table border=\"1\" class=\"dataframe\">\n  <thead>\n    <tr style=\"text-align: right;\">\n      <th></th>\n      <th>example_id</th>\n      <th>question_text</th>\n      <th>question_tokens</th>\n      <th>document_url</th>\n      <th>document_html</th>\n      <th>long_answer_candidates</th>\n      <th>annotations</th>\n    </tr>\n  </thead>\n  <tbody>\n    <tr>\n      <th>0</th>\n      <td>5225754983651766092</td>\n      <td>what purpose did seasonal monsoon winds have o...</td>\n      <td>[what, purpose, did, seasonal, monsoon, winds,...</td>\n      <td>https://en.wikipedia.org//w/index.php?title=Tr...</td>\n      <td>&lt;!DOCTYPE html&gt;\\n&lt;HTML class=\"client-js ve-not...</td>\n      <td>[{'end_byte': 44666, 'end_token': 161, 'start_...</td>\n      <td>[{'annotation_id': 4323936797498927989, 'long_...</td>\n    </tr>\n    <tr>\n      <th>1</th>\n      <td>6986236841860957647</td>\n      <td>where did they film high school musical two</td>\n      <td>[where, did, they, film, high, school, musical...</td>\n      <td>https://en.wikipedia.org//w/index.php?title=Hi...</td>\n      <td>&lt;!DOCTYPE html&gt;\\n&lt;HTML class=\"client-js ve-not...</td>\n      <td>[{'end_byte': 58952, 'end_token': 260, 'start_...</td>\n      <td>[{'annotation_id': 4831085488325731996, 'long_...</td>\n    </tr>\n    <tr>\n      <th>2</th>\n      <td>-3290814144789249484</td>\n      <td>who got the first nobel prize in physics</td>\n      <td>[who, got, the, first, nobel, prize, in, physics]</td>\n      <td>https://en.wikipedia.org//w/index.php?title=Li...</td>\n      <td>&lt;!DOCTYPE html&gt;\\n&lt;HTML class=\"client-js ve-not...</td>\n      <td>[{'end_byte': 36110, 'end_token': 179, 'start_...</td>\n      <td>[{'annotation_id': 10138100176517733689, 'long...</td>\n    </tr>\n    <tr>\n      <th>3</th>\n      <td>5745452844331879752</td>\n      <td>who has the rights to alice in wonderland</td>\n      <td>[who, has, the, rights, to, alice, in, wonderl...</td>\n      <td>https://en.wikipedia.org//w/index.php?title=Al...</td>\n      <td>&lt;!DOCTYPE html&gt;\\n&lt;HTML class=\"client-js ve-not...</td>\n      <td>[{'end_byte': 46964, 'end_token': 178, 'start_...</td>\n      <td>[{'annotation_id': 2559678672569860137, 'long_...</td>\n    </tr>\n    <tr>\n      <th>4</th>\n      <td>8851020722386421469</td>\n      <td>when is the next deadpool movie being released</td>\n      <td>[when, is, the, next, deadpool, movie, being, ...</td>\n      <td>https://en.wikipedia.org//w/index.php?title=De...</td>\n      <td>&lt;!DOCTYPE html&gt;\\n&lt;HTML class=\"client-js ve-not...</td>\n      <td>[{'end_byte': 60014, 'end_token': 272, 'start_...</td>\n      <td>[{'annotation_id': 927142593907478770, 'long_a...</td>\n    </tr>\n    <tr>\n      <th>...</th>\n      <td>...</td>\n      <td>...</td>\n      <td>...</td>\n      <td>...</td>\n      <td>...</td>\n      <td>...</td>\n      <td>...</td>\n    </tr>\n    <tr>\n      <th>1595</th>\n      <td>-4616596799374362422</td>\n      <td>who was the pinkerton detective agency's first...</td>\n      <td>[who, was, the, pinkerton, detective, agency, ...</td>\n      <td>https://en.wikipedia.org//w/index.php?title=Ka...</td>\n      <td>&lt;!DOCTYPE html&gt;\\n&lt;HTML class=\"client-js ve-not...</td>\n      <td>[{'end_byte': 56155, 'end_token': 65, 'start_b...</td>\n      <td>[{'annotation_id': 13939247266108964303, 'long...</td>\n    </tr>\n    <tr>\n      <th>1596</th>\n      <td>-3650291155113659146</td>\n      <td>how many episodes are there in modern family</td>\n      <td>[how, many, episodes, are, there, in, modern, ...</td>\n      <td>https://en.wikipedia.org//w/index.php?title=Li...</td>\n      <td>&lt;!DOCTYPE html&gt;\\n&lt;HTML class=\"client-js ve-not...</td>\n      <td>[{'end_byte': 44549, 'end_token': 227, 'start_...</td>\n      <td>[{'annotation_id': 17314900466083915677, 'long...</td>\n    </tr>\n    <tr>\n      <th>1597</th>\n      <td>3381924381590631417</td>\n      <td>who built the first temple for god in jerusalem</td>\n      <td>[who, built, the, first, temple, for, god, in,...</td>\n      <td>https://en.wikipedia.org//w/index.php?title=So...</td>\n      <td>&lt;!DOCTYPE html&gt;\\n&lt;HTML class=\"client-js ve-not...</td>\n      <td>[{'end_byte': 57724, 'end_token': 144, 'start_...</td>\n      <td>[{'annotation_id': 2468504027145325568, 'long_...</td>\n    </tr>\n    <tr>\n      <th>1598</th>\n      <td>-1370702280698958195</td>\n      <td>when did the simpsons first air in uk</td>\n      <td>[when, did, the, simpsons, first, air, in, uk]</td>\n      <td>https://en.wikipedia.org//w/index.php?title=Th...</td>\n      <td>&lt;!DOCTYPE html&gt;\\n&lt;HTML class=\"client-js ve-not...</td>\n      <td>[{'end_byte': 157703, 'end_token': 703, 'start...</td>\n      <td>[{'annotation_id': 17148029089918722229, 'long...</td>\n    </tr>\n    <tr>\n      <th>1599</th>\n      <td>-154783694579651082</td>\n      <td>what is a dropped pin on google maps for</td>\n      <td>[what, is, a, dropped, pin, on, google, maps, ...</td>\n      <td>https://en.wikipedia.org//w/index.php?title=Go...</td>\n      <td>&lt;!DOCTYPE html&gt;\\n&lt;HTML class=\"client-js ve-not...</td>\n      <td>[{'end_byte': 42885, 'end_token': 87, 'start_b...</td>\n      <td>[{'annotation_id': 7650410767210452343, 'long_...</td>\n    </tr>\n  </tbody>\n</table>\n<p>1600 rows × 7 columns</p>\n</div>",
      "text/plain": "               example_id                                      question_text  \\\n0     5225754983651766092  what purpose did seasonal monsoon winds have o...   \n1     6986236841860957647        where did they film high school musical two   \n2    -3290814144789249484           who got the first nobel prize in physics   \n3     5745452844331879752          who has the rights to alice in wonderland   \n4     8851020722386421469     when is the next deadpool movie being released   \n...                   ...                                                ...   \n1595 -4616596799374362422  who was the pinkerton detective agency's first...   \n1596 -3650291155113659146       how many episodes are there in modern family   \n1597  3381924381590631417    who built the first temple for god in jerusalem   \n1598 -1370702280698958195              when did the simpsons first air in uk   \n1599  -154783694579651082           what is a dropped pin on google maps for   \n\n                                        question_tokens  \\\n0     [what, purpose, did, seasonal, monsoon, winds,...   \n1     [where, did, they, film, high, school, musical...   \n2     [who, got, the, first, nobel, prize, in, physics]   \n3     [who, has, the, rights, to, alice, in, wonderl...   \n4     [when, is, the, next, deadpool, movie, being, ...   \n...                                                 ...   \n1595  [who, was, the, pinkerton, detective, agency, ...   \n1596  [how, many, episodes, are, there, in, modern, ...   \n1597  [who, built, the, first, temple, for, god, in,...   \n1598     [when, did, the, simpsons, first, air, in, uk]   \n1599  [what, is, a, dropped, pin, on, google, maps, ...   \n\n                                           document_url  \\\n0     https://en.wikipedia.org//w/index.php?title=Tr...   \n1     https://en.wikipedia.org//w/index.php?title=Hi...   \n2     https://en.wikipedia.org//w/index.php?title=Li...   \n3     https://en.wikipedia.org//w/index.php?title=Al...   \n4     https://en.wikipedia.org//w/index.php?title=De...   \n...                                                 ...   \n1595  https://en.wikipedia.org//w/index.php?title=Ka...   \n1596  https://en.wikipedia.org//w/index.php?title=Li...   \n1597  https://en.wikipedia.org//w/index.php?title=So...   \n1598  https://en.wikipedia.org//w/index.php?title=Th...   \n1599  https://en.wikipedia.org//w/index.php?title=Go...   \n\n                                          document_html  \\\n0     <!DOCTYPE html>\\n<HTML class=\"client-js ve-not...   \n1     <!DOCTYPE html>\\n<HTML class=\"client-js ve-not...   \n2     <!DOCTYPE html>\\n<HTML class=\"client-js ve-not...   \n3     <!DOCTYPE html>\\n<HTML class=\"client-js ve-not...   \n4     <!DOCTYPE html>\\n<HTML class=\"client-js ve-not...   \n...                                                 ...   \n1595  <!DOCTYPE html>\\n<HTML class=\"client-js ve-not...   \n1596  <!DOCTYPE html>\\n<HTML class=\"client-js ve-not...   \n1597  <!DOCTYPE html>\\n<HTML class=\"client-js ve-not...   \n1598  <!DOCTYPE html>\\n<HTML class=\"client-js ve-not...   \n1599  <!DOCTYPE html>\\n<HTML class=\"client-js ve-not...   \n\n                                 long_answer_candidates  \\\n0     [{'end_byte': 44666, 'end_token': 161, 'start_...   \n1     [{'end_byte': 58952, 'end_token': 260, 'start_...   \n2     [{'end_byte': 36110, 'end_token': 179, 'start_...   \n3     [{'end_byte': 46964, 'end_token': 178, 'start_...   \n4     [{'end_byte': 60014, 'end_token': 272, 'start_...   \n...                                                 ...   \n1595  [{'end_byte': 56155, 'end_token': 65, 'start_b...   \n1596  [{'end_byte': 44549, 'end_token': 227, 'start_...   \n1597  [{'end_byte': 57724, 'end_token': 144, 'start_...   \n1598  [{'end_byte': 157703, 'end_token': 703, 'start...   \n1599  [{'end_byte': 42885, 'end_token': 87, 'start_b...   \n\n                                            annotations  \n0     [{'annotation_id': 4323936797498927989, 'long_...  \n1     [{'annotation_id': 4831085488325731996, 'long_...  \n2     [{'annotation_id': 10138100176517733689, 'long...  \n3     [{'annotation_id': 2559678672569860137, 'long_...  \n4     [{'annotation_id': 927142593907478770, 'long_a...  \n...                                                 ...  \n1595  [{'annotation_id': 13939247266108964303, 'long...  \n1596  [{'annotation_id': 17314900466083915677, 'long...  \n1597  [{'annotation_id': 2468504027145325568, 'long_...  \n1598  [{'annotation_id': 17148029089918722229, 'long...  \n1599  [{'annotation_id': 7650410767210452343, 'long_...  \n\n[1600 rows x 7 columns]"
     },
     "execution_count": 27,
     "metadata": {},
     "output_type": "execute_result"
    }
   ],
   "source": [
    "nq_sample_list = read_jsonl(f'nq-dev-00.jsonl')\n",
    "\n",
    "\n",
    "df = pd.DataFrame(nq_sample_list, columns=[\n",
    "    'example_id', \n",
    "    'question_text', 'question_tokens', \n",
    "    'document_url', 'document_html', # 'document_tokens',\n",
    "    'long_answer_candidates', \n",
    "    'annotations', \n",
    "]) \n",
    "df"
   ]
  },
  {
   "cell_type": "markdown",
   "metadata": {},
   "source": [
    "Write data to a `.jsonl` file"
   ]
  },
  {
   "cell_type": "code",
   "execution_count": null,
   "metadata": {},
   "outputs": [],
   "source": [
    "\n",
    "def write_jsonl(data, output_path, append=False):\n",
    "    \"\"\"\n",
    "    Write list of objects to a JSON lines file.\n",
    "    \"\"\"\n",
    "    mode = 'a+' if append else 'w'\n",
    "    with open(output_path, mode, encoding='utf-8') as f:\n",
    "        for line in data:\n",
    "            json_record = json.dumps(line, ensure_ascii=False)\n",
    "            f.write(json_record + '\\n')\n",
    "    print('Wrote {} records to {}'.format(len(data), output_path))"
   ]
  }
 ],
 "metadata": {
  "kernelspec": {
   "display_name": "Python 3",
   "language": "python",
   "name": "python3"
  },
  "language_info": {
   "codemirror_mode": {
    "name": "ipython",
    "version": 3
   },
   "file_extension": ".py",
   "mimetype": "text/x-python",
   "name": "python",
   "nbconvert_exporter": "python",
   "pygments_lexer": "ipython3",
   "version": "3.7.3-final"
  }
 },
 "nbformat": 4,
 "nbformat_minor": 4
}