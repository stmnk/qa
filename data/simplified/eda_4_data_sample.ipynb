{
 "cells": [
  {
   "cell_type": "markdown",
   "metadata": {},
   "source": [
    "[![Open In Colab](https://colab.research.google.com/assets/colab-badge.svg)](https://colab.research.google.com/github/stmnk/qa/blob/master/data/eda_4_data_sample.ipynb)\n",
    "Exploratory data analysis for the *only 10% no long answer* sample data of NQ dataset. \n"
   ]
  },
  {
   "cell_type": "code",
   "execution_count": 0,
   "metadata": {
    "colab": {
     "base_uri": "https://localhost:8080/",
     "height": 34
    },
    "colab_type": "code",
    "id": "MLbD1726UVIt",
    "outputId": "e964a7ec-9551-4c98-dbe8-513031494702"
   },
   "outputs": [
    {
     "name": "stdout",
     "output_type": "stream",
     "text": [
      "Drive already mounted at /content/drive; to attempt to forcibly remount, call drive.mount(\"/content/drive\", force_remount=True).\n"
     ]
    }
   ],
   "source": [
    "from google.colab import drive\n",
    "DRIVE_ROOT = '/content/drive'\n",
    "drive.mount(DRIVE_ROOT)"
   ]
  },
  {
   "cell_type": "code",
   "execution_count": 0,
   "metadata": {
    "colab": {},
    "colab_type": "code",
    "id": "15yGDgjZlxII"
   },
   "outputs": [],
   "source": [
    "# head -100 data/nq_sampled_10p_no_ans.jsonl > data/nq_sampled_10p_no_ans_100.jsonl\n",
    "# head -1000 data/nq_sampled_10p_no_ans.jsonl > data/nq_sampled_10p_no_ans_1000.jsonl\n",
    "# cd simplified\n",
    "# head -15000 nq_sampled_10p_no_ans.jsonl > ../mini/nq_sampled_10p_no_ans_15K.jsonl\n",
    "# tail -25000 nq_sampled_10p_no_ans.jsonl > ../mini/nq_sampled_10p_no_ans_25K.jsonl"
   ]
  },
  {
   "cell_type": "code",
   "execution_count": 0,
   "metadata": {
    "colab": {},
    "colab_type": "code",
    "id": "Qb3sF9l4lzuI"
   },
   "outputs": [],
   "source": [
    "DEV_PATH = 'My Drive/data'"
   ]
  },
  {
   "cell_type": "code",
   "execution_count": 0,
   "metadata": {
    "colab": {},
    "colab_type": "code",
    "id": "npJ-HCBel7Aq"
   },
   "outputs": [],
   "source": [
    "# !head -100 '/content/drive/My Drive/data/nq_sampled_10p_no_ans.jsonl' > '/content/drive/My Drive/data/nq_sampled_10p_no_ans_100.jsonl'"
   ]
  },
  {
   "cell_type": "code",
   "execution_count": 0,
   "metadata": {
    "colab": {
     "base_uri": "https://localhost:8080/",
     "height": 182
    },
    "colab_type": "code",
    "id": "52o5xHAMUL7r",
    "outputId": "7baeeaeb-0ba0-4020-ee32-719b1ef8b518"
   },
   "outputs": [
    {
     "name": "stdout",
     "output_type": "stream",
     "text": [
      "Loaded 1 records from /content/drive/My Drive/data/nq_sampled_10p_no_ans_28.jsonl\n"
     ]
    },
    {
     "data": {
      "text/html": [
       "<div>\n",
       "<style scoped>\n",
       "    .dataframe tbody tr th:only-of-type {\n",
       "        vertical-align: middle;\n",
       "    }\n",
       "\n",
       "    .dataframe tbody tr th {\n",
       "        vertical-align: top;\n",
       "    }\n",
       "\n",
       "    .dataframe thead th {\n",
       "        text-align: right;\n",
       "    }\n",
       "</style>\n",
       "<table border=\"1\" class=\"dataframe\">\n",
       "  <thead>\n",
       "    <tr style=\"text-align: right;\">\n",
       "      <th></th>\n",
       "      <th>document_text</th>\n",
       "      <th>long_answer_candidates</th>\n",
       "      <th>question_text</th>\n",
       "      <th>annotations</th>\n",
       "      <th>document_url</th>\n",
       "      <th>example_id</th>\n",
       "    </tr>\n",
       "  </thead>\n",
       "  <tbody>\n",
       "    <tr>\n",
       "      <th>0</th>\n",
       "      <td>Lena Headey - wikipedia &lt;H1&gt; Lena Headey &lt;/H1&gt; Jump to : navigation , search &lt;Table&gt; &lt;Tr&gt; &lt;Th_colspan=\"2\"&gt; Lena Headey &lt;/Th&gt; &lt;/Tr&gt; &lt;Tr&gt; &lt;Td_colspan=\"2\"&gt; Headey at the 63rd Primetime Emmy Awards &lt;/...</td>\n",
       "      <td>[{'start_token': 14, 'top_level': True, 'end_token': 157}, {'start_token': 15, 'top_level': False, 'end_token': 21}, {'start_token': 21, 'top_level': False, 'end_token': 32}, {'start_token': 32, '...</td>\n",
       "      <td>who plays circe lannister on game of thrones</td>\n",
       "      <td>[{'yes_no_answer': 'NONE', 'long_answer': {'start_token': 157, 'candidate_index': 12, 'end_token': 189}, 'short_answers': [{'start_token': 158, 'end_token': 160}], 'annotation_id': 842830856246078...</td>\n",
       "      <td>https://en.wikipedia.org//w/index.php?title=Lena_Headey&amp;amp;oldid=808562689</td>\n",
       "      <td>-5657912605393786481</td>\n",
       "    </tr>\n",
       "  </tbody>\n",
       "</table>\n",
       "</div>"
      ],
      "text/plain": [
       "                                                                                                                                                                                             document_text  ...           example_id\n",
       "0  Lena Headey - wikipedia <H1> Lena Headey </H1> Jump to : navigation , search <Table> <Tr> <Th_colspan=\"2\"> Lena Headey </Th> </Tr> <Tr> <Td_colspan=\"2\"> Headey at the 63rd Primetime Emmy Awards </...  ... -5657912605393786481\n",
       "\n",
       "[1 rows x 6 columns]"
      ]
     },
     "execution_count": 71,
     "metadata": {
      "tags": []
     },
     "output_type": "execute_result"
    }
   ],
   "source": [
    "import json\n",
    "import pandas as pd\n",
    "\n",
    "def read_jsonl(input_path) -> list:\n",
    "    \"\"\"\n",
    "    Read list of objects from a JSON lines file.\n",
    "    \"\"\"\n",
    "    data = []\n",
    "    with open(input_path, 'r', encoding='utf-8') as f:\n",
    "        for line in f:\n",
    "            line_data = json.loads(line.rstrip('\\n|\\r'))\n",
    "\n",
    "            data.append(line_data)\n",
    "    print(f'Loaded {len(data)} records from {input_path}')\n",
    "    # print(f'Normalized into {len(data_norm)} records.')\n",
    "    return data\n",
    "\n",
    "# nq_data = read_jsonl(f'{DRIVE_ROOT}/{DEV_PATH}/nq_sampled_10p_no_ans_100.jsonl')\n",
    "# nq_data = read_jsonl(f'{DRIVE_ROOT}/{DEV_PATH}/nq_sampled_10p_no_ans_1.jsonl')\n",
    "nq_data = read_jsonl(f'{DRIVE_ROOT}/{DEV_PATH}/nq_sampled_10p_no_ans_28.jsonl')\n",
    "\n",
    "nq_df = pd.DataFrame(nq_data)\n",
    "\n",
    "pd.set_option('display.max_colwidth', 200)\n",
    "nq_df"
   ]
  },
  {
   "cell_type": "code",
   "execution_count": 0,
   "metadata": {
    "colab": {
     "base_uri": "https://localhost:8080/",
     "height": 97
    },
    "colab_type": "code",
    "id": "loH_nNNtp3yj",
    "outputId": "df91c20b-f279-4065-eee2-6f9c690feec8"
   },
   "outputs": [
    {
     "data": {
      "text/html": [
       "<div>\n",
       "<style scoped>\n",
       "    .dataframe tbody tr th:only-of-type {\n",
       "        vertical-align: middle;\n",
       "    }\n",
       "\n",
       "    .dataframe tbody tr th {\n",
       "        vertical-align: top;\n",
       "    }\n",
       "\n",
       "    .dataframe thead th {\n",
       "        text-align: right;\n",
       "    }\n",
       "</style>\n",
       "<table border=\"1\" class=\"dataframe\">\n",
       "  <thead>\n",
       "    <tr style=\"text-align: right;\">\n",
       "      <th></th>\n",
       "      <th>question_text</th>\n",
       "      <th>document_text</th>\n",
       "    </tr>\n",
       "  </thead>\n",
       "  <tbody>\n",
       "    <tr>\n",
       "      <th>0</th>\n",
       "      <td>who plays circe lannister on game of thrones</td>\n",
       "      <td>Lena Headey - wikipedia &lt;H1&gt; Lena Headey &lt;/H1&gt; Jump to : navigation , search &lt;Table&gt; &lt;Tr&gt; &lt;Th_colspan=\"2\"&gt; Lena Headey &lt;/Th&gt; &lt;/Tr&gt; &lt;Tr&gt; &lt;Td_colspan=\"2\"&gt; Headey at the 63rd Primetime Emmy Awards &lt;/...</td>\n",
       "    </tr>\n",
       "  </tbody>\n",
       "</table>\n",
       "</div>"
      ],
      "text/plain": [
       "                                  question_text                                                                                                                                                                                            document_text\n",
       "0  who plays circe lannister on game of thrones  Lena Headey - wikipedia <H1> Lena Headey </H1> Jump to : navigation , search <Table> <Tr> <Th_colspan=\"2\"> Lena Headey </Th> </Tr> <Tr> <Td_colspan=\"2\"> Headey at the 63rd Primetime Emmy Awards </..."
      ]
     },
     "execution_count": 75,
     "metadata": {
      "tags": []
     },
     "output_type": "execute_result"
    }
   ],
   "source": [
    "nq_input_df = nq_df[['question_text', 'document_text']]\n",
    "nq_input_df"
   ]
  },
  {
   "cell_type": "code",
   "execution_count": 0,
   "metadata": {
    "colab": {
     "base_uri": "https://localhost:8080/",
     "height": 131
    },
    "colab_type": "code",
    "id": "trYoTQhGqRb-",
    "outputId": "75e9030d-d425-4e44-f2b2-5867c948d786"
   },
   "outputs": [
    {
     "data": {
      "text/html": [
       "<div>\n",
       "<style scoped>\n",
       "    .dataframe tbody tr th:only-of-type {\n",
       "        vertical-align: middle;\n",
       "    }\n",
       "\n",
       "    .dataframe tbody tr th {\n",
       "        vertical-align: top;\n",
       "    }\n",
       "\n",
       "    .dataframe thead th {\n",
       "        text-align: right;\n",
       "    }\n",
       "</style>\n",
       "<table border=\"1\" class=\"dataframe\">\n",
       "  <thead>\n",
       "    <tr style=\"text-align: right;\">\n",
       "      <th></th>\n",
       "      <th>annotations</th>\n",
       "      <th>long_answer_candidates</th>\n",
       "      <th>document_text</th>\n",
       "    </tr>\n",
       "  </thead>\n",
       "  <tbody>\n",
       "    <tr>\n",
       "      <th>0</th>\n",
       "      <td>[{'yes_no_answer': 'NONE', 'long_answer': {'start_token': 157, 'candidate_index': 12, 'end_token': 189}, 'short_answers': [{'start_token': 158, 'end_token': 160}], 'annotation_id': 842830856246078...</td>\n",
       "      <td>[{'start_token': 14, 'top_level': True, 'end_token': 157}, {'start_token': 15, 'top_level': False, 'end_token': 21}, {'start_token': 21, 'top_level': False, 'end_token': 32}, {'start_token': 32, '...</td>\n",
       "      <td>Lena Headey - wikipedia &lt;H1&gt; Lena Headey &lt;/H1&gt; Jump to : navigation , search &lt;Table&gt; &lt;Tr&gt; &lt;Th_colspan=\"2\"&gt; Lena Headey &lt;/Th&gt; &lt;/Tr&gt; &lt;Tr&gt; &lt;Td_colspan=\"2\"&gt; Headey at the 63rd Primetime Emmy Awards &lt;/...</td>\n",
       "    </tr>\n",
       "  </tbody>\n",
       "</table>\n",
       "</div>"
      ],
      "text/plain": [
       "                                                                                                                                                                                               annotations  ...                                                                                                                                                                                            document_text\n",
       "0  [{'yes_no_answer': 'NONE', 'long_answer': {'start_token': 157, 'candidate_index': 12, 'end_token': 189}, 'short_answers': [{'start_token': 158, 'end_token': 160}], 'annotation_id': 842830856246078...  ...  Lena Headey - wikipedia <H1> Lena Headey </H1> Jump to : navigation , search <Table> <Tr> <Th_colspan=\"2\"> Lena Headey </Th> </Tr> <Tr> <Td_colspan=\"2\"> Headey at the 63rd Primetime Emmy Awards </...\n",
       "\n",
       "[1 rows x 3 columns]"
      ]
     },
     "execution_count": 76,
     "metadata": {
      "tags": []
     },
     "output_type": "execute_result"
    }
   ],
   "source": [
    "nq_output_df = nq_df[['annotations', 'long_answer_candidates', 'document_text']]\n",
    "nq_output_df"
   ]
  },
  {
   "cell_type": "code",
   "execution_count": 1,
   "metadata": {
    "colab": {
     "base_uri": "https://localhost:8080/",
     "height": 97
    },
    "colab_type": "code",
    "id": "ukgpnjhOUweg",
    "outputId": "89e62bc3-d612-4958-f3a6-aec5aed9a3af"
   },
   "outputs": [
    {
     "ename": "NameError",
     "evalue": "name 'pd' is not defined",
     "output_type": "error",
     "traceback": [
      "\u001b[0;31m---------------------------------------------------------------------------\u001b[0m",
      "\u001b[0;31mNameError\u001b[0m                                 Traceback (most recent call last)",
      "\u001b[0;32m<ipython-input-1-11f4e4351c14>\u001b[0m in \u001b[0;36m<module>\u001b[0;34m\u001b[0m\n\u001b[0;32m----> 1\u001b[0;31m \u001b[0mnq_out\u001b[0m \u001b[0;34m=\u001b[0m \u001b[0mpd\u001b[0m\u001b[0;34m.\u001b[0m\u001b[0mDataFrame\u001b[0m\u001b[0;34m(\u001b[0m\u001b[0;34m)\u001b[0m\u001b[0;34m\u001b[0m\u001b[0;34m\u001b[0m\u001b[0m\n\u001b[0m\u001b[1;32m      2\u001b[0m \u001b[0;32mfor\u001b[0m \u001b[0mi\u001b[0m \u001b[0;32min\u001b[0m \u001b[0mnq_data\u001b[0m\u001b[0;34m:\u001b[0m\u001b[0;34m\u001b[0m\u001b[0;34m\u001b[0m\u001b[0m\n\u001b[1;32m      3\u001b[0m   \u001b[0mline_norm\u001b[0m \u001b[0;34m=\u001b[0m \u001b[0mpd\u001b[0m\u001b[0;34m.\u001b[0m\u001b[0mio\u001b[0m\u001b[0;34m.\u001b[0m\u001b[0mjson\u001b[0m\u001b[0;34m.\u001b[0m\u001b[0mjson_normalize\u001b[0m\u001b[0;34m(\u001b[0m\u001b[0mi\u001b[0m\u001b[0;34m[\u001b[0m\u001b[0;34m'annotations'\u001b[0m\u001b[0;34m]\u001b[0m\u001b[0;34m)\u001b[0m\u001b[0;34m\u001b[0m\u001b[0;34m\u001b[0m\u001b[0m\n\u001b[1;32m      4\u001b[0m   \u001b[0mstart\u001b[0m \u001b[0;34m=\u001b[0m \u001b[0mline_norm\u001b[0m\u001b[0;34m[\u001b[0m\u001b[0;34m'long_answer.start_token'\u001b[0m\u001b[0;34m]\u001b[0m\u001b[0;34m[\u001b[0m\u001b[0;36m0\u001b[0m\u001b[0;34m]\u001b[0m\u001b[0;34m\u001b[0m\u001b[0;34m\u001b[0m\u001b[0m\n\u001b[1;32m      5\u001b[0m   \u001b[0mend\u001b[0m \u001b[0;34m=\u001b[0m \u001b[0mline_norm\u001b[0m\u001b[0;34m[\u001b[0m\u001b[0;34m'long_answer.end_token'\u001b[0m\u001b[0;34m]\u001b[0m\u001b[0;34m[\u001b[0m\u001b[0;36m0\u001b[0m\u001b[0;34m]\u001b[0m\u001b[0;34m\u001b[0m\u001b[0;34m\u001b[0m\u001b[0m\n",
      "\u001b[0;31mNameError\u001b[0m: name 'pd' is not defined"
     ]
    }
   ],
   "source": [
    "nq_out = pd.DataFrame()\n",
    "for i in nq_data:\n",
    "  line_norm = pd.io.json.json_normalize(i['annotations'])\n",
    "  start = line_norm['long_answer.start_token'][0]\n",
    "  end = line_norm['long_answer.end_token'][0]\n",
    "  l_answer = i['document_text'][start:end]\n",
    "  print(l_answer)\n",
    "  nq_out = pd.concat([nq_out, line_norm])\n",
    "\n",
    "nq_out"
   ]
  },
  {
   "cell_type": "code",
   "execution_count": 0,
   "metadata": {
    "colab": {
     "base_uri": "https://localhost:8080/",
     "height": 589
    },
    "colab_type": "code",
    "id": "nGPqJX9mVQdM",
    "outputId": "f75a9b8a-1703-4ff1-bbb7-62fd22b1ac23"
   },
   "outputs": [
    {
     "data": {
      "text/html": [
       "<div>\n",
       "<style scoped>\n",
       "    .dataframe tbody tr th:only-of-type {\n",
       "        vertical-align: middle;\n",
       "    }\n",
       "\n",
       "    .dataframe tbody tr th {\n",
       "        vertical-align: top;\n",
       "    }\n",
       "\n",
       "    .dataframe thead th {\n",
       "        text-align: right;\n",
       "    }\n",
       "</style>\n",
       "<table border=\"1\" class=\"dataframe\">\n",
       "  <thead>\n",
       "    <tr style=\"text-align: right;\">\n",
       "      <th></th>\n",
       "      <th>document_text</th>\n",
       "      <th>long_answer_candidates</th>\n",
       "      <th>question_text</th>\n",
       "      <th>annotations</th>\n",
       "      <th>document_url</th>\n",
       "      <th>example_id</th>\n",
       "    </tr>\n",
       "  </thead>\n",
       "  <tbody>\n",
       "    <tr>\n",
       "      <th>0</th>\n",
       "      <td>Echo ( command ) - wikipedia &lt;H1&gt; Echo ( comma...</td>\n",
       "      <td>[{'start_token': 18, 'top_level': True, 'end_t...</td>\n",
       "      <td>why do we use echo command in unix</td>\n",
       "      <td>[{'yes_no_answer': 'NONE', 'long_answer': {'st...</td>\n",
       "      <td>https://en.wikipedia.org//w/index.php?title=Ec...</td>\n",
       "      <td>-1597477975860921384</td>\n",
       "    </tr>\n",
       "    <tr>\n",
       "      <th>0</th>\n",
       "      <td>Removal of Confederate monuments and memorials...</td>\n",
       "      <td>[{'start_token': 55, 'top_level': True, 'end_t...</td>\n",
       "      <td>when did the first confederate monument come down</td>\n",
       "      <td>[{'yes_no_answer': 'NONE', 'long_answer': {'st...</td>\n",
       "      <td>https://en.wikipedia.org//w/index.php?title=Re...</td>\n",
       "      <td>-9065784408732536125</td>\n",
       "    </tr>\n",
       "    <tr>\n",
       "      <th>0</th>\n",
       "      <td>Gun laws in Indiana - wikipedia &lt;H1&gt; Gun laws ...</td>\n",
       "      <td>[{'start_token': 25, 'top_level': True, 'end_t...</td>\n",
       "      <td>how old do you have to be to purchase a handgu...</td>\n",
       "      <td>[{'yes_no_answer': 'NONE', 'long_answer': {'st...</td>\n",
       "      <td>https://en.wikipedia.org//w/index.php?title=Gu...</td>\n",
       "      <td>-7673229615879657244</td>\n",
       "    </tr>\n",
       "    <tr>\n",
       "      <th>0</th>\n",
       "      <td>Dog behavior - wikipedia &lt;H1&gt; Dog behavior &lt;/H...</td>\n",
       "      <td>[{'start_token': 23, 'top_level': True, 'end_t...</td>\n",
       "      <td>which of the following has not been proposed a...</td>\n",
       "      <td>[{'yes_no_answer': 'NONE', 'long_answer': {'st...</td>\n",
       "      <td>https://en.wikipedia.org//w/index.php?title=Do...</td>\n",
       "      <td>779540282274241805</td>\n",
       "    </tr>\n",
       "    <tr>\n",
       "      <th>0</th>\n",
       "      <td>List of Miss America titleholders - Wikipedia ...</td>\n",
       "      <td>[{'start_token': 14, 'top_level': True, 'end_t...</td>\n",
       "      <td>what state has won the most miss americas</td>\n",
       "      <td>[{'yes_no_answer': 'NONE', 'long_answer': {'st...</td>\n",
       "      <td>https://en.wikipedia.org//w/index.php?title=Li...</td>\n",
       "      <td>-3810950140615511988</td>\n",
       "    </tr>\n",
       "    <tr>\n",
       "      <th>...</th>\n",
       "      <td>...</td>\n",
       "      <td>...</td>\n",
       "      <td>...</td>\n",
       "      <td>...</td>\n",
       "      <td>...</td>\n",
       "      <td>...</td>\n",
       "    </tr>\n",
       "    <tr>\n",
       "      <th>0</th>\n",
       "      <td>Do n't Be Cruel ( album ) - wikipedia &lt;H1&gt; Do ...</td>\n",
       "      <td>[{'start_token': 18, 'top_level': True, 'end_t...</td>\n",
       "      <td>who produced the don't be cruel album</td>\n",
       "      <td>[{'yes_no_answer': 'NONE', 'long_answer': {'st...</td>\n",
       "      <td>https://en.wikipedia.org//w/index.php?title=Do...</td>\n",
       "      <td>422285032523668788</td>\n",
       "    </tr>\n",
       "    <tr>\n",
       "      <th>0</th>\n",
       "      <td>List of surviving veterans of World War II - w...</td>\n",
       "      <td>[{'start_token': 26, 'top_level': True, 'end_t...</td>\n",
       "      <td>how old is the youngest living wwii veteran</td>\n",
       "      <td>[{'yes_no_answer': 'NONE', 'long_answer': {'st...</td>\n",
       "      <td>https://en.wikipedia.org//w/index.php?title=Li...</td>\n",
       "      <td>-1510509223935576034</td>\n",
       "    </tr>\n",
       "    <tr>\n",
       "      <th>0</th>\n",
       "      <td>List of most - followed Instagram accounts - w...</td>\n",
       "      <td>[{'start_token': 40, 'top_level': True, 'end_t...</td>\n",
       "      <td>who have the highest followers on instagram 2017</td>\n",
       "      <td>[{'yes_no_answer': 'NONE', 'long_answer': {'st...</td>\n",
       "      <td>https://en.wikipedia.org//w/index.php?title=Li...</td>\n",
       "      <td>-8078425945158110630</td>\n",
       "    </tr>\n",
       "    <tr>\n",
       "      <th>0</th>\n",
       "      <td>List of solar deities - wikipedia &lt;H1&gt; List of...</td>\n",
       "      <td>[{'start_token': 40, 'top_level': True, 'end_t...</td>\n",
       "      <td>who is the sun goddess in greek mythology</td>\n",
       "      <td>[{'yes_no_answer': 'NONE', 'long_answer': {'st...</td>\n",
       "      <td>https://en.wikipedia.org//w/index.php?title=Li...</td>\n",
       "      <td>-8052473042553592834</td>\n",
       "    </tr>\n",
       "    <tr>\n",
       "      <th>0</th>\n",
       "      <td>Skyrush - wikipedia &lt;H1&gt; Skyrush &lt;/H1&gt; &lt;Table&gt;...</td>\n",
       "      <td>[{'start_token': 6, 'top_level': True, 'end_to...</td>\n",
       "      <td>what is the fastest roller coaster at hershey ...</td>\n",
       "      <td>[{'yes_no_answer': 'NONE', 'long_answer': {'st...</td>\n",
       "      <td>https://en.wikipedia.org//w/index.php?title=Sk...</td>\n",
       "      <td>-3158132830019131273</td>\n",
       "    </tr>\n",
       "  </tbody>\n",
       "</table>\n",
       "<p>100 rows × 6 columns</p>\n",
       "</div>"
      ],
      "text/plain": [
       "                                        document_text  ...           example_id\n",
       "0   Echo ( command ) - wikipedia <H1> Echo ( comma...  ... -1597477975860921384\n",
       "0   Removal of Confederate monuments and memorials...  ... -9065784408732536125\n",
       "0   Gun laws in Indiana - wikipedia <H1> Gun laws ...  ... -7673229615879657244\n",
       "0   Dog behavior - wikipedia <H1> Dog behavior </H...  ...   779540282274241805\n",
       "0   List of Miss America titleholders - Wikipedia ...  ... -3810950140615511988\n",
       "..                                                ...  ...                  ...\n",
       "0   Do n't Be Cruel ( album ) - wikipedia <H1> Do ...  ...   422285032523668788\n",
       "0   List of surviving veterans of World War II - w...  ... -1510509223935576034\n",
       "0   List of most - followed Instagram accounts - w...  ... -8078425945158110630\n",
       "0   List of solar deities - wikipedia <H1> List of...  ... -8052473042553592834\n",
       "0   Skyrush - wikipedia <H1> Skyrush </H1> <Table>...  ... -3158132830019131273\n",
       "\n",
       "[100 rows x 6 columns]"
      ]
     },
     "execution_count": 21,
     "metadata": {
      "tags": []
     },
     "output_type": "execute_result"
    }
   ],
   "source": [
    "nq_data"
   ]
  },
  {
   "cell_type": "code",
   "execution_count": 0,
   "metadata": {
    "colab": {},
    "colab_type": "code",
    "id": "GoDMDGywptt7"
   },
   "outputs": [],
   "source": []
  }
 ],
 "metadata": {
  "colab": {
   "collapsed_sections": [],
   "name": "eda-4-data-sample.ipynb",
   "provenance": []
  },
  "kernelspec": {
   "display_name": "Python 3",
   "language": "python",
   "name": "python3"
  },
  "language_info": {
   "codemirror_mode": {
    "name": "ipython",
    "version": 3
   },
   "file_extension": ".py",
   "mimetype": "text/x-python",
   "name": "python",
   "nbconvert_exporter": "python",
   "pygments_lexer": "ipython3",
   "version": "3.7.6"
  }
 },
 "nbformat": 4,
 "nbformat_minor": 1
}
