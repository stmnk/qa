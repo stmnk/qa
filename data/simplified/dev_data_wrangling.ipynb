{
 "cells": [
  {
   "cell_type": "markdown",
   "metadata": {},
   "source": [
    "[![Open In Colab](https://colab.research.google.com/assets/colab-badge.svg)](https://colab.research.google.com/github/stmnk/qa/blob/master/data/dev_data_wrangling.ipynb)\n",
    "\n",
    "# Dowload dataset\n",
    "\n",
    "Download the training data in simplified format from Natural Questions [download](https://ai.google.com/research/NaturalQuestions/download) page. This step will require signing-in to a google account. "
   ]
  },
  {
   "cell_type": "markdown",
   "metadata": {},
   "source": [
    "## Extract dataset (simplified format)\n",
    "Uncompress the training data in simplified format (unless already have)."
   ]
  },
  {
   "cell_type": "code",
   "execution_count": 201,
   "metadata": {},
   "outputs": [
    {
     "name": "stdout",
     "output_type": "stream",
     "text": [
      ".gz file already dowloaded and .jsonl data already decompressed: skipping extracting again\n"
     ]
    }
   ],
   "source": [
    "import os.path\n",
    "import gzip\n",
    "import shutil\n",
    "\n",
    "if os.path.isfile('v1.0-simplified_simplified-nq-train.jsonl.gz'):\n",
    "    if os.path.isfile('v1.0-simplified_simplified-nq-train.jsonl'):\n",
    "        print (\".gz file already dowloaded and .jsonl data already decompressed: skipping extracting again\")\n",
    "    else:\n",
    "        print (\"Started extracting the .jsonl data ... (this may take a while ... please wait ...)\")\n",
    "        with gzip.open(f'v1.0-simplified_simplified-nq-train.jsonl.gz', 'rb') as f_in:\n",
    "            with open(f'v1.0-simplified_simplified-nq-train.jsonl', 'wb') as f_out:\n",
    "                shutil.copyfileobj(f_in, f_out)\n",
    "                print (\"Finished extracting the .jsonl data\")\n",
    "else:\n",
    "    print (\".gz file does not exists: you have to dowload the data file first:\")\n",
    "    print (\"https://ai.google.com/research/NaturalQuestions/download\")"
   ]
  },
  {
   "cell_type": "markdown",
   "metadata": {},
   "source": [
    "## Read JSON line format\n",
    "Read from a `.jsonl` file format (list of valid `json` one entry for each line, separated by `\\n`)."
   ]
  },
  {
   "cell_type": "code",
   "execution_count": 2,
   "metadata": {},
   "outputs": [],
   "source": [
    "import json\n",
    "\n",
    "def read_jsonl(input_path) -> list:\n",
    "    \"\"\"\n",
    "    Read list of objects from a JSON lines file.\n",
    "    \"\"\"\n",
    "    data = []\n",
    "    with open(input_path, 'r', encoding='utf-8') as f:\n",
    "        for line in f:\n",
    "            line_data = json.loads(line.rstrip('\\n|\\r'))\n",
    "            data.append(line_data)\n",
    "    print(f'Loaded {len(data)} records from {input_path}')\n",
    "    return data"
   ]
  },
  {
   "cell_type": "markdown",
   "metadata": {},
   "source": [
    "Load **all** simplified format training data (this can take a while ~17.5GB)."
   ]
  },
  {
   "cell_type": "code",
   "execution_count": null,
   "metadata": {},
   "outputs": [],
   "source": [
    "nq_data = read_jsonl(f'v1.0-simplified_simplified-nq-train.jsonl')"
   ]
  },
  {
   "cell_type": "markdown",
   "metadata": {},
   "source": [
    "## Load data into a (pandas) dataframe"
   ]
  },
  {
   "cell_type": "code",
   "execution_count": 4,
   "metadata": {},
   "outputs": [],
   "source": [
    "import pandas as pd"
   ]
  },
  {
   "cell_type": "code",
   "execution_count": 241,
   "metadata": {},
   "outputs": [],
   "source": [
    "nq_df = pd.DataFrame(nq_data)"
   ]
  },
  {
   "cell_type": "code",
   "execution_count": 243,
   "metadata": {},
   "outputs": [
    {
     "data": {
      "text/html": [
       "<div>\n",
       "<style scoped>\n",
       "    .dataframe tbody tr th:only-of-type {\n",
       "        vertical-align: middle;\n",
       "    }\n",
       "\n",
       "    .dataframe tbody tr th {\n",
       "        vertical-align: top;\n",
       "    }\n",
       "\n",
       "    .dataframe thead th {\n",
       "        text-align: right;\n",
       "    }\n",
       "</style>\n",
       "<table border=\"1\" class=\"dataframe\">\n",
       "  <thead>\n",
       "    <tr style=\"text-align: right;\">\n",
       "      <th></th>\n",
       "      <th>document_text</th>\n",
       "      <th>long_answer_candidates</th>\n",
       "      <th>question_text</th>\n",
       "      <th>annotations</th>\n",
       "      <th>document_url</th>\n",
       "      <th>example_id</th>\n",
       "    </tr>\n",
       "  </thead>\n",
       "  <tbody>\n",
       "    <tr>\n",
       "      <th>0</th>\n",
       "      <td>Email marketing - Wikipedia &lt;H1&gt; Email marketing &lt;/H1&gt; Jump to : navigation , search &lt;Table&gt; &lt;Tr&gt; &lt;Td&gt; &lt;/Td&gt; &lt;Td&gt; ( hide ) This article has multiple issues . Please help improve it or discuss thes...</td>\n",
       "      <td>[{'start_token': 14, 'top_level': True, 'end_token': 170}, {'start_token': 15, 'top_level': False, 'end_token': 169}, {'start_token': 52, 'top_level': False, 'end_token': 103}, {'start_token': 53,...</td>\n",
       "      <td>which is the most common use of opt-in e-mail marketing</td>\n",
       "      <td>[{'yes_no_answer': 'NONE', 'long_answer': {'start_token': 1952, 'candidate_index': 54, 'end_token': 2019}, 'short_answers': [{'start_token': 1960, 'end_token': 1969}], 'annotation_id': 59316545022...</td>\n",
       "      <td>https://en.wikipedia.org//w/index.php?title=Email_marketing&amp;amp;oldid=814071202</td>\n",
       "      <td>5655493461695504401</td>\n",
       "    </tr>\n",
       "    <tr>\n",
       "      <th>1</th>\n",
       "      <td>The Mother ( How I Met Your Mother ) - wikipedia &lt;H1&gt; The Mother ( How I Met Your Mother ) &lt;/H1&gt; Jump to : navigation , search &lt;Table&gt; &lt;Tr&gt; &lt;Th_colspan=\"2\"&gt; Tracy McConnell &lt;/Th&gt; &lt;/Tr&gt; &lt;Tr&gt; &lt;Td_co...</td>\n",
       "      <td>[{'start_token': 28, 'top_level': True, 'end_token': 212}, {'start_token': 29, 'top_level': False, 'end_token': 35}, {'start_token': 35, 'top_level': False, 'end_token': 45}, {'start_token': 45, '...</td>\n",
       "      <td>how i.met your mother who is the mother</td>\n",
       "      <td>[{'yes_no_answer': 'NONE', 'long_answer': {'start_token': 212, 'candidate_index': 15, 'end_token': 310}, 'short_answers': [{'start_token': 213, 'end_token': 215}], 'annotation_id': 120348741537837...</td>\n",
       "      <td>https://en.wikipedia.org//w/index.php?title=The_Mother_(How_I_Met_Your_Mother)&amp;amp;oldid=802354471</td>\n",
       "      <td>5328212470870865242</td>\n",
       "    </tr>\n",
       "    <tr>\n",
       "      <th>2</th>\n",
       "      <td>Human fertilization - wikipedia &lt;H1&gt; Human fertilization &lt;/H1&gt; Jump to : navigation , search &lt;Table&gt; &lt;Tr&gt; &lt;Td&gt; Part of a series on &lt;/Td&gt; &lt;/Tr&gt; &lt;Tr&gt; &lt;Th&gt; Human growth and development &lt;/Th&gt; &lt;/Tr&gt; &lt;T...</td>\n",
       "      <td>[{'start_token': 14, 'top_level': True, 'end_token': 225}, {'start_token': 15, 'top_level': False, 'end_token': 24}, {'start_token': 24, 'top_level': False, 'end_token': 32}, {'start_token': 36, '...</td>\n",
       "      <td>what type of fertilisation takes place in humans</td>\n",
       "      <td>[{'yes_no_answer': 'NONE', 'long_answer': {'start_token': 319, 'candidate_index': 24, 'end_token': 438}, 'short_answers': [], 'annotation_id': 10527123009892725162}]</td>\n",
       "      <td>https://en.wikipedia.org//w/index.php?title=Human_fertilization&amp;amp;oldid=831042507</td>\n",
       "      <td>4435104480114867852</td>\n",
       "    </tr>\n",
       "    <tr>\n",
       "      <th>3</th>\n",
       "      <td>List of National Football League career quarterback wins leaders - wikipedia &lt;H1&gt; List of National Football League career quarterback wins leaders &lt;/H1&gt; Jump to : navigation , search &lt;Table&gt; &lt;Tr&gt; ...</td>\n",
       "      <td>[{'start_token': 28, 'top_level': True, 'end_token': 469}, {'start_token': 29, 'top_level': False, 'end_token': 35}, {'start_token': 35, 'top_level': False, 'end_token': 50}, {'start_token': 42, '...</td>\n",
       "      <td>who had the most wins in the nfl</td>\n",
       "      <td>[{'yes_no_answer': 'NONE', 'long_answer': {'start_token': 509, 'candidate_index': 59, 'end_token': 576}, 'short_answers': [{'start_token': 512, 'end_token': 514}], 'annotation_id': 146347963651525...</td>\n",
       "      <td>https://en.wikipedia.org//w/index.php?title=List_of_National_Football_League_career_quarterback_wins_leaders&amp;amp;oldid=818143757</td>\n",
       "      <td>5289242154789678439</td>\n",
       "    </tr>\n",
       "    <tr>\n",
       "      <th>4</th>\n",
       "      <td>Roanoke Colony - wikipedia &lt;H1&gt; Roanoke Colony &lt;/H1&gt; Jump to : navigation , search `` Lost Colony '' redirects here . For other uses , see Lost Colony ( disambiguation ) . &lt;Table&gt; &lt;Tr&gt; &lt;Td&gt; &lt;/Td&gt; ...</td>\n",
       "      <td>[{'start_token': 32, 'top_level': True, 'end_token': 88}, {'start_token': 33, 'top_level': False, 'end_token': 87}, {'start_token': 88, 'top_level': True, 'end_token': 249}, {'start_token': 89, 't...</td>\n",
       "      <td>what happened to the lost settlement of roanoke</td>\n",
       "      <td>[{'yes_no_answer': 'NONE', 'long_answer': {'start_token': -1, 'candidate_index': -1, 'end_token': -1}, 'short_answers': [], 'annotation_id': 11038549994888625916}]</td>\n",
       "      <td>https://en.wikipedia.org//w/index.php?title=Roanoke_Colony&amp;amp;oldid=843591647</td>\n",
       "      <td>5489863933082811018</td>\n",
       "    </tr>\n",
       "    <tr>\n",
       "      <th>...</th>\n",
       "      <td>...</td>\n",
       "      <td>...</td>\n",
       "      <td>...</td>\n",
       "      <td>...</td>\n",
       "      <td>...</td>\n",
       "      <td>...</td>\n",
       "    </tr>\n",
       "    <tr>\n",
       "      <th>307368</th>\n",
       "      <td>The Price Is Right - wikipedia &lt;H1&gt; The Price Is Right &lt;/H1&gt; Jump to : navigation , search This article is about The Price Is Right franchise . For the American version airing since 1972 , see The...</td>\n",
       "      <td>[{'start_token': 60, 'top_level': True, 'end_token': 218}, {'start_token': 61, 'top_level': False, 'end_token': 217}, {'start_token': 98, 'top_level': False, 'end_token': 153}, {'start_token': 99,...</td>\n",
       "      <td>who have been the hosts of the price is right</td>\n",
       "      <td>[{'yes_no_answer': 'NONE', 'long_answer': {'start_token': 218, 'candidate_index': 6, 'end_token': 321}, 'short_answers': [{'start_token': 293, 'end_token': 295}, {'start_token': 307, 'end_token': ...</td>\n",
       "      <td>https://en.wikipedia.org//w/index.php?title=The_Price_Is_Right&amp;amp;oldid=827202287</td>\n",
       "      <td>-1413521544318030897</td>\n",
       "    </tr>\n",
       "    <tr>\n",
       "      <th>307369</th>\n",
       "      <td>Mama Told Me Not to Come - wikipedia &lt;H1&gt; Mama Told Me Not to Come &lt;/H1&gt; Jump to : navigation , search &lt;Table&gt; &lt;Tr&gt; &lt;Th_colspan=\"2\"&gt; `` Mama Told Me Not to Come '' &lt;/Th&gt; &lt;/Tr&gt; &lt;Tr&gt; &lt;Th_colspan=\"2\"...</td>\n",
       "      <td>[{'start_token': 22, 'top_level': True, 'end_token': 176}, {'start_token': 23, 'top_level': False, 'end_token': 35}, {'start_token': 35, 'top_level': False, 'end_token': 46}, {'start_token': 46, '...</td>\n",
       "      <td>who sang the song mama told me not to come</td>\n",
       "      <td>[{'yes_no_answer': 'NONE', 'long_answer': {'start_token': -1, 'candidate_index': -1, 'end_token': -1}, 'short_answers': [], 'annotation_id': 4082814573060225469}]</td>\n",
       "      <td>https://en.wikipedia.org//w/index.php?title=Mama_Told_Me_Not_to_Come&amp;amp;oldid=810574865</td>\n",
       "      <td>3779316254369130993</td>\n",
       "    </tr>\n",
       "    <tr>\n",
       "      <th>307370</th>\n",
       "      <td>Jacob Anderson - wikipedia &lt;H1&gt; Jacob Anderson &lt;/H1&gt; For the priest , see Jacob Anderson ( priest ) . For the LGBT activist , see Jacob Anderson - Minshall . &lt;P&gt; &lt;/P&gt; &lt;Table&gt; &lt;Tr&gt; &lt;Th_colspan=\"2\"&gt;...</td>\n",
       "      <td>[{'start_token': 32, 'top_level': True, 'end_token': 173}, {'start_token': 33, 'top_level': False, 'end_token': 39}, {'start_token': 39, 'top_level': False, 'end_token': 52}, {'start_token': 52, '...</td>\n",
       "      <td>who plays grey worm on game of thrones</td>\n",
       "      <td>[{'yes_no_answer': 'NONE', 'long_answer': {'start_token': 173, 'candidate_index': 13, 'end_token': 265}, 'short_answers': [{'start_token': 174, 'end_token': 177}], 'annotation_id': 425351403563793...</td>\n",
       "      <td>https://en.wikipedia.org//w/index.php?title=Jacob_Anderson&amp;amp;oldid=848356277</td>\n",
       "      <td>6455931563852330492</td>\n",
       "    </tr>\n",
       "    <tr>\n",
       "      <th>307371</th>\n",
       "      <td>Sodium - vapor lamp - wikipedia &lt;H1&gt; Sodium - vapor lamp &lt;/H1&gt; Jump to : navigation , search A sodium vapor lamp &lt;P&gt; A sodium - vapor lamp is a gas - discharge lamp that uses sodium in an excited ...</td>\n",
       "      <td>[{'start_token': 22, 'top_level': True, 'end_token': 53}, {'start_token': 53, 'top_level': True, 'end_token': 144}, {'start_token': 286, 'top_level': True, 'end_token': 425}, {'start_token': 425, ...</td>\n",
       "      <td>working principle of high pressure sodium vapour lamp</td>\n",
       "      <td>[{'yes_no_answer': 'NONE', 'long_answer': {'start_token': -1, 'candidate_index': -1, 'end_token': -1}, 'short_answers': [], 'annotation_id': 1828800823834337985}]</td>\n",
       "      <td>https://en.wikipedia.org//w/index.php?title=Sodium-vapor_lamp&amp;amp;oldid=800197342</td>\n",
       "      <td>-7982911662792302578</td>\n",
       "    </tr>\n",
       "    <tr>\n",
       "      <th>307372</th>\n",
       "      <td>Red Hat Enterprise Linux - Wikipedia &lt;H1&gt; Red Hat Enterprise Linux &lt;/H1&gt; Not to be confused with Fedora or Red Hat Linux . &lt;Table&gt; Red Hat Enterprise Linux &lt;Tr&gt; &lt;Td_colspan=\"2\"&gt; &lt;/Td&gt; &lt;/Tr&gt; &lt;Tr&gt; &lt;...</td>\n",
       "      <td>[{'start_token': 23, 'top_level': True, 'end_token': 377}, {'start_token': 32, 'top_level': False, 'end_token': 41}, {'start_token': 41, 'top_level': False, 'end_token': 53}, {'start_token': 53, '...</td>\n",
       "      <td>what is the latest red hat linux version</td>\n",
       "      <td>[{'yes_no_answer': 'NONE', 'long_answer': {'start_token': 23, 'candidate_index': 0, 'end_token': 377}, 'short_answers': [{'start_token': 114, 'end_token': 115}], 'annotation_id': 63778652725638269...</td>\n",
       "      <td>https://en.wikipedia.org//w/index.php?title=Red_Hat_Enterprise_Linux&amp;amp;oldid=851011450</td>\n",
       "      <td>-6253518446509823267</td>\n",
       "    </tr>\n",
       "  </tbody>\n",
       "</table>\n",
       "<p>307373 rows × 6 columns</p>\n",
       "</div>"
      ],
      "text/plain": [
       "                                                                                                                                                                                                  document_text  \\\n",
       "0       Email marketing - Wikipedia <H1> Email marketing </H1> Jump to : navigation , search <Table> <Tr> <Td> </Td> <Td> ( hide ) This article has multiple issues . Please help improve it or discuss thes...   \n",
       "1       The Mother ( How I Met Your Mother ) - wikipedia <H1> The Mother ( How I Met Your Mother ) </H1> Jump to : navigation , search <Table> <Tr> <Th_colspan=\"2\"> Tracy McConnell </Th> </Tr> <Tr> <Td_co...   \n",
       "2       Human fertilization - wikipedia <H1> Human fertilization </H1> Jump to : navigation , search <Table> <Tr> <Td> Part of a series on </Td> </Tr> <Tr> <Th> Human growth and development </Th> </Tr> <T...   \n",
       "3       List of National Football League career quarterback wins leaders - wikipedia <H1> List of National Football League career quarterback wins leaders </H1> Jump to : navigation , search <Table> <Tr> ...   \n",
       "4       Roanoke Colony - wikipedia <H1> Roanoke Colony </H1> Jump to : navigation , search `` Lost Colony '' redirects here . For other uses , see Lost Colony ( disambiguation ) . <Table> <Tr> <Td> </Td> ...   \n",
       "...                                                                                                                                                                                                         ...   \n",
       "307368  The Price Is Right - wikipedia <H1> The Price Is Right </H1> Jump to : navigation , search This article is about The Price Is Right franchise . For the American version airing since 1972 , see The...   \n",
       "307369  Mama Told Me Not to Come - wikipedia <H1> Mama Told Me Not to Come </H1> Jump to : navigation , search <Table> <Tr> <Th_colspan=\"2\"> `` Mama Told Me Not to Come '' </Th> </Tr> <Tr> <Th_colspan=\"2\"...   \n",
       "307370  Jacob Anderson - wikipedia <H1> Jacob Anderson </H1> For the priest , see Jacob Anderson ( priest ) . For the LGBT activist , see Jacob Anderson - Minshall . <P> </P> <Table> <Tr> <Th_colspan=\"2\">...   \n",
       "307371  Sodium - vapor lamp - wikipedia <H1> Sodium - vapor lamp </H1> Jump to : navigation , search A sodium vapor lamp <P> A sodium - vapor lamp is a gas - discharge lamp that uses sodium in an excited ...   \n",
       "307372  Red Hat Enterprise Linux - Wikipedia <H1> Red Hat Enterprise Linux </H1> Not to be confused with Fedora or Red Hat Linux . <Table> Red Hat Enterprise Linux <Tr> <Td_colspan=\"2\"> </Td> </Tr> <Tr> <...   \n",
       "\n",
       "                                                                                                                                                                                         long_answer_candidates  \\\n",
       "0       [{'start_token': 14, 'top_level': True, 'end_token': 170}, {'start_token': 15, 'top_level': False, 'end_token': 169}, {'start_token': 52, 'top_level': False, 'end_token': 103}, {'start_token': 53,...   \n",
       "1       [{'start_token': 28, 'top_level': True, 'end_token': 212}, {'start_token': 29, 'top_level': False, 'end_token': 35}, {'start_token': 35, 'top_level': False, 'end_token': 45}, {'start_token': 45, '...   \n",
       "2       [{'start_token': 14, 'top_level': True, 'end_token': 225}, {'start_token': 15, 'top_level': False, 'end_token': 24}, {'start_token': 24, 'top_level': False, 'end_token': 32}, {'start_token': 36, '...   \n",
       "3       [{'start_token': 28, 'top_level': True, 'end_token': 469}, {'start_token': 29, 'top_level': False, 'end_token': 35}, {'start_token': 35, 'top_level': False, 'end_token': 50}, {'start_token': 42, '...   \n",
       "4       [{'start_token': 32, 'top_level': True, 'end_token': 88}, {'start_token': 33, 'top_level': False, 'end_token': 87}, {'start_token': 88, 'top_level': True, 'end_token': 249}, {'start_token': 89, 't...   \n",
       "...                                                                                                                                                                                                         ...   \n",
       "307368  [{'start_token': 60, 'top_level': True, 'end_token': 218}, {'start_token': 61, 'top_level': False, 'end_token': 217}, {'start_token': 98, 'top_level': False, 'end_token': 153}, {'start_token': 99,...   \n",
       "307369  [{'start_token': 22, 'top_level': True, 'end_token': 176}, {'start_token': 23, 'top_level': False, 'end_token': 35}, {'start_token': 35, 'top_level': False, 'end_token': 46}, {'start_token': 46, '...   \n",
       "307370  [{'start_token': 32, 'top_level': True, 'end_token': 173}, {'start_token': 33, 'top_level': False, 'end_token': 39}, {'start_token': 39, 'top_level': False, 'end_token': 52}, {'start_token': 52, '...   \n",
       "307371  [{'start_token': 22, 'top_level': True, 'end_token': 53}, {'start_token': 53, 'top_level': True, 'end_token': 144}, {'start_token': 286, 'top_level': True, 'end_token': 425}, {'start_token': 425, ...   \n",
       "307372  [{'start_token': 23, 'top_level': True, 'end_token': 377}, {'start_token': 32, 'top_level': False, 'end_token': 41}, {'start_token': 41, 'top_level': False, 'end_token': 53}, {'start_token': 53, '...   \n",
       "\n",
       "                                                  question_text  \\\n",
       "0       which is the most common use of opt-in e-mail marketing   \n",
       "1                       how i.met your mother who is the mother   \n",
       "2              what type of fertilisation takes place in humans   \n",
       "3                              who had the most wins in the nfl   \n",
       "4               what happened to the lost settlement of roanoke   \n",
       "...                                                         ...   \n",
       "307368            who have been the hosts of the price is right   \n",
       "307369               who sang the song mama told me not to come   \n",
       "307370                   who plays grey worm on game of thrones   \n",
       "307371    working principle of high pressure sodium vapour lamp   \n",
       "307372                 what is the latest red hat linux version   \n",
       "\n",
       "                                                                                                                                                                                                    annotations  \\\n",
       "0       [{'yes_no_answer': 'NONE', 'long_answer': {'start_token': 1952, 'candidate_index': 54, 'end_token': 2019}, 'short_answers': [{'start_token': 1960, 'end_token': 1969}], 'annotation_id': 59316545022...   \n",
       "1       [{'yes_no_answer': 'NONE', 'long_answer': {'start_token': 212, 'candidate_index': 15, 'end_token': 310}, 'short_answers': [{'start_token': 213, 'end_token': 215}], 'annotation_id': 120348741537837...   \n",
       "2                                         [{'yes_no_answer': 'NONE', 'long_answer': {'start_token': 319, 'candidate_index': 24, 'end_token': 438}, 'short_answers': [], 'annotation_id': 10527123009892725162}]   \n",
       "3       [{'yes_no_answer': 'NONE', 'long_answer': {'start_token': 509, 'candidate_index': 59, 'end_token': 576}, 'short_answers': [{'start_token': 512, 'end_token': 514}], 'annotation_id': 146347963651525...   \n",
       "4                                           [{'yes_no_answer': 'NONE', 'long_answer': {'start_token': -1, 'candidate_index': -1, 'end_token': -1}, 'short_answers': [], 'annotation_id': 11038549994888625916}]   \n",
       "...                                                                                                                                                                                                         ...   \n",
       "307368  [{'yes_no_answer': 'NONE', 'long_answer': {'start_token': 218, 'candidate_index': 6, 'end_token': 321}, 'short_answers': [{'start_token': 293, 'end_token': 295}, {'start_token': 307, 'end_token': ...   \n",
       "307369                                       [{'yes_no_answer': 'NONE', 'long_answer': {'start_token': -1, 'candidate_index': -1, 'end_token': -1}, 'short_answers': [], 'annotation_id': 4082814573060225469}]   \n",
       "307370  [{'yes_no_answer': 'NONE', 'long_answer': {'start_token': 173, 'candidate_index': 13, 'end_token': 265}, 'short_answers': [{'start_token': 174, 'end_token': 177}], 'annotation_id': 425351403563793...   \n",
       "307371                                       [{'yes_no_answer': 'NONE', 'long_answer': {'start_token': -1, 'candidate_index': -1, 'end_token': -1}, 'short_answers': [], 'annotation_id': 1828800823834337985}]   \n",
       "307372  [{'yes_no_answer': 'NONE', 'long_answer': {'start_token': 23, 'candidate_index': 0, 'end_token': 377}, 'short_answers': [{'start_token': 114, 'end_token': 115}], 'annotation_id': 63778652725638269...   \n",
       "\n",
       "                                                                                                                            document_url  \\\n",
       "0                                                        https://en.wikipedia.org//w/index.php?title=Email_marketing&amp;oldid=814071202   \n",
       "1                                     https://en.wikipedia.org//w/index.php?title=The_Mother_(How_I_Met_Your_Mother)&amp;oldid=802354471   \n",
       "2                                                    https://en.wikipedia.org//w/index.php?title=Human_fertilization&amp;oldid=831042507   \n",
       "3       https://en.wikipedia.org//w/index.php?title=List_of_National_Football_League_career_quarterback_wins_leaders&amp;oldid=818143757   \n",
       "4                                                         https://en.wikipedia.org//w/index.php?title=Roanoke_Colony&amp;oldid=843591647   \n",
       "...                                                                                                                                  ...   \n",
       "307368                                                https://en.wikipedia.org//w/index.php?title=The_Price_Is_Right&amp;oldid=827202287   \n",
       "307369                                          https://en.wikipedia.org//w/index.php?title=Mama_Told_Me_Not_to_Come&amp;oldid=810574865   \n",
       "307370                                                    https://en.wikipedia.org//w/index.php?title=Jacob_Anderson&amp;oldid=848356277   \n",
       "307371                                                 https://en.wikipedia.org//w/index.php?title=Sodium-vapor_lamp&amp;oldid=800197342   \n",
       "307372                                          https://en.wikipedia.org//w/index.php?title=Red_Hat_Enterprise_Linux&amp;oldid=851011450   \n",
       "\n",
       "                 example_id  \n",
       "0       5655493461695504401  \n",
       "1       5328212470870865242  \n",
       "2       4435104480114867852  \n",
       "3       5289242154789678439  \n",
       "4       5489863933082811018  \n",
       "...                     ...  \n",
       "307368 -1413521544318030897  \n",
       "307369  3779316254369130993  \n",
       "307370  6455931563852330492  \n",
       "307371 -7982911662792302578  \n",
       "307372 -6253518446509823267  \n",
       "\n",
       "[307373 rows x 6 columns]"
      ]
     },
     "execution_count": 243,
     "metadata": {},
     "output_type": "execute_result"
    }
   ],
   "source": [
    "nq_df"
   ]
  },
  {
   "cell_type": "markdown",
   "metadata": {},
   "source": [
    "### Explore annotations structure\n",
    "Explore the structure of the `anotations` list (contain all the information about the correct answer(s) to the question, if any)."
   ]
  },
  {
   "cell_type": "code",
   "execution_count": 203,
   "metadata": {},
   "outputs": [],
   "source": [
    "df = pd.DataFrame(nq_data, \n",
    "                  columns=[\n",
    "                    'question_text', # 'question_tokens', \n",
    "                    'document_text', # 'document_url', 'document_html', # 'document_tokens',\n",
    "                    'annotations', # 'long_answer_candidates', \n",
    "                    'example_id', \n",
    "                  ]\n",
    "                 ) "
   ]
  },
  {
   "cell_type": "code",
   "execution_count": 204,
   "metadata": {},
   "outputs": [
    {
     "data": {
      "text/html": [
       "<div>\n",
       "<style scoped>\n",
       "    .dataframe tbody tr th:only-of-type {\n",
       "        vertical-align: middle;\n",
       "    }\n",
       "\n",
       "    .dataframe tbody tr th {\n",
       "        vertical-align: top;\n",
       "    }\n",
       "\n",
       "    .dataframe thead th {\n",
       "        text-align: right;\n",
       "    }\n",
       "</style>\n",
       "<table border=\"1\" class=\"dataframe\">\n",
       "  <thead>\n",
       "    <tr style=\"text-align: right;\">\n",
       "      <th></th>\n",
       "      <th>annotations</th>\n",
       "    </tr>\n",
       "  </thead>\n",
       "  <tbody>\n",
       "    <tr>\n",
       "      <th>0</th>\n",
       "      <td>[{'yes_no_answer': 'NONE', 'long_answer': {'start_token': 1952, 'candidate_index': 54, 'end_token': 2019}, 'short_answers': [{'start_token': 1960, 'end_token': 1969}], 'annotation_id': 59316545022...</td>\n",
       "    </tr>\n",
       "    <tr>\n",
       "      <th>1</th>\n",
       "      <td>[{'yes_no_answer': 'NONE', 'long_answer': {'start_token': 212, 'candidate_index': 15, 'end_token': 310}, 'short_answers': [{'start_token': 213, 'end_token': 215}], 'annotation_id': 120348741537837...</td>\n",
       "    </tr>\n",
       "    <tr>\n",
       "      <th>2</th>\n",
       "      <td>[{'yes_no_answer': 'NONE', 'long_answer': {'start_token': 319, 'candidate_index': 24, 'end_token': 438}, 'short_answers': [], 'annotation_id': 10527123009892725162}]</td>\n",
       "    </tr>\n",
       "    <tr>\n",
       "      <th>3</th>\n",
       "      <td>[{'yes_no_answer': 'NONE', 'long_answer': {'start_token': 509, 'candidate_index': 59, 'end_token': 576}, 'short_answers': [{'start_token': 512, 'end_token': 514}], 'annotation_id': 146347963651525...</td>\n",
       "    </tr>\n",
       "    <tr>\n",
       "      <th>4</th>\n",
       "      <td>[{'yes_no_answer': 'NONE', 'long_answer': {'start_token': -1, 'candidate_index': -1, 'end_token': -1}, 'short_answers': [], 'annotation_id': 11038549994888625916}]</td>\n",
       "    </tr>\n",
       "    <tr>\n",
       "      <th>...</th>\n",
       "      <td>...</td>\n",
       "    </tr>\n",
       "    <tr>\n",
       "      <th>307368</th>\n",
       "      <td>[{'yes_no_answer': 'NONE', 'long_answer': {'start_token': 218, 'candidate_index': 6, 'end_token': 321}, 'short_answers': [{'start_token': 293, 'end_token': 295}, {'start_token': 307, 'end_token': ...</td>\n",
       "    </tr>\n",
       "    <tr>\n",
       "      <th>307369</th>\n",
       "      <td>[{'yes_no_answer': 'NONE', 'long_answer': {'start_token': -1, 'candidate_index': -1, 'end_token': -1}, 'short_answers': [], 'annotation_id': 4082814573060225469}]</td>\n",
       "    </tr>\n",
       "    <tr>\n",
       "      <th>307370</th>\n",
       "      <td>[{'yes_no_answer': 'NONE', 'long_answer': {'start_token': 173, 'candidate_index': 13, 'end_token': 265}, 'short_answers': [{'start_token': 174, 'end_token': 177}], 'annotation_id': 425351403563793...</td>\n",
       "    </tr>\n",
       "    <tr>\n",
       "      <th>307371</th>\n",
       "      <td>[{'yes_no_answer': 'NONE', 'long_answer': {'start_token': -1, 'candidate_index': -1, 'end_token': -1}, 'short_answers': [], 'annotation_id': 1828800823834337985}]</td>\n",
       "    </tr>\n",
       "    <tr>\n",
       "      <th>307372</th>\n",
       "      <td>[{'yes_no_answer': 'NONE', 'long_answer': {'start_token': 23, 'candidate_index': 0, 'end_token': 377}, 'short_answers': [{'start_token': 114, 'end_token': 115}], 'annotation_id': 63778652725638269...</td>\n",
       "    </tr>\n",
       "  </tbody>\n",
       "</table>\n",
       "<p>307373 rows × 1 columns</p>\n",
       "</div>"
      ],
      "text/plain": [
       "                                                                                                                                                                                                    annotations\n",
       "0       [{'yes_no_answer': 'NONE', 'long_answer': {'start_token': 1952, 'candidate_index': 54, 'end_token': 2019}, 'short_answers': [{'start_token': 1960, 'end_token': 1969}], 'annotation_id': 59316545022...\n",
       "1       [{'yes_no_answer': 'NONE', 'long_answer': {'start_token': 212, 'candidate_index': 15, 'end_token': 310}, 'short_answers': [{'start_token': 213, 'end_token': 215}], 'annotation_id': 120348741537837...\n",
       "2                                         [{'yes_no_answer': 'NONE', 'long_answer': {'start_token': 319, 'candidate_index': 24, 'end_token': 438}, 'short_answers': [], 'annotation_id': 10527123009892725162}]\n",
       "3       [{'yes_no_answer': 'NONE', 'long_answer': {'start_token': 509, 'candidate_index': 59, 'end_token': 576}, 'short_answers': [{'start_token': 512, 'end_token': 514}], 'annotation_id': 146347963651525...\n",
       "4                                           [{'yes_no_answer': 'NONE', 'long_answer': {'start_token': -1, 'candidate_index': -1, 'end_token': -1}, 'short_answers': [], 'annotation_id': 11038549994888625916}]\n",
       "...                                                                                                                                                                                                         ...\n",
       "307368  [{'yes_no_answer': 'NONE', 'long_answer': {'start_token': 218, 'candidate_index': 6, 'end_token': 321}, 'short_answers': [{'start_token': 293, 'end_token': 295}, {'start_token': 307, 'end_token': ...\n",
       "307369                                       [{'yes_no_answer': 'NONE', 'long_answer': {'start_token': -1, 'candidate_index': -1, 'end_token': -1}, 'short_answers': [], 'annotation_id': 4082814573060225469}]\n",
       "307370  [{'yes_no_answer': 'NONE', 'long_answer': {'start_token': 173, 'candidate_index': 13, 'end_token': 265}, 'short_answers': [{'start_token': 174, 'end_token': 177}], 'annotation_id': 425351403563793...\n",
       "307371                                       [{'yes_no_answer': 'NONE', 'long_answer': {'start_token': -1, 'candidate_index': -1, 'end_token': -1}, 'short_answers': [], 'annotation_id': 1828800823834337985}]\n",
       "307372  [{'yes_no_answer': 'NONE', 'long_answer': {'start_token': 23, 'candidate_index': 0, 'end_token': 377}, 'short_answers': [{'start_token': 114, 'end_token': 115}], 'annotation_id': 63778652725638269...\n",
       "\n",
       "[307373 rows x 1 columns]"
      ]
     },
     "execution_count": 204,
     "metadata": {},
     "output_type": "execute_result"
    }
   ],
   "source": [
    "pd.set_option('display.max_colwidth', 200)\n",
    "df[['annotations']]"
   ]
  },
  {
   "cell_type": "code",
   "execution_count": 7,
   "metadata": {},
   "outputs": [
    {
     "data": {
      "text/plain": [
       "list"
      ]
     },
     "execution_count": 7,
     "metadata": {},
     "output_type": "execute_result"
    }
   ],
   "source": [
    "type(nq_data)"
   ]
  },
  {
   "cell_type": "markdown",
   "metadata": {},
   "source": [
    "# Data Sampling\n",
    "Setup some constants for ranging over the data."
   ]
  },
  {
   "cell_type": "code",
   "execution_count": 137,
   "metadata": {},
   "outputs": [],
   "source": [
    "data_size = len(nq_data)\n",
    "data_range = range(data_size)"
   ]
  },
  {
   "cell_type": "markdown",
   "metadata": {},
   "source": [
    "Count the number of questions with a singleton annotations list."
   ]
  },
  {
   "cell_type": "code",
   "execution_count": 138,
   "metadata": {},
   "outputs": [
    {
     "name": "stdout",
     "output_type": "stream",
     "text": [
      "307373\n"
     ]
    }
   ],
   "source": [
    "ann_count = 0\n",
    "\n",
    "for i in data_range:\n",
    "    l = nq_data[i]['annotations']\n",
    "    if len(l) == 1:\n",
    "        ann_count = ann_count + 1\n",
    "        \n",
    "print(ann_count)"
   ]
  },
  {
   "cell_type": "markdown",
   "metadata": {},
   "source": [
    "Count the number of unanswered questions (in `[2]` it is recommended to aggresively reduce the number of unanswered questions during training in order to improve learning performance)."
   ]
  },
  {
   "cell_type": "code",
   "execution_count": 139,
   "metadata": {},
   "outputs": [
    {
     "name": "stdout",
     "output_type": "stream",
     "text": [
      "155225\n"
     ]
    }
   ],
   "source": [
    "no_long_ans_count = 0\n",
    "\n",
    "for i in data_range:\n",
    "    l = nq_data[i]['annotations'][0]\n",
    "    if l['long_answer']['start_token'] == -1:\n",
    "        no_long_ans_count = no_long_ans_count + 1\n",
    "        \n",
    "print(no_long_ans_count)    "
   ]
  },
  {
   "cell_type": "markdown",
   "metadata": {},
   "source": [
    "More than half are unanswered questions (this can also make the size of the data during development more manageable)."
   ]
  },
  {
   "cell_type": "code",
   "execution_count": 140,
   "metadata": {},
   "outputs": [
    {
     "data": {
      "text/plain": [
       "50.50053192700725"
      ]
     },
     "execution_count": 140,
     "metadata": {},
     "output_type": "execute_result"
    }
   ],
   "source": [
    "no_long_ans_count * 100 / ann_count"
   ]
  },
  {
   "cell_type": "markdown",
   "metadata": {},
   "source": [
    "Split the data in two using the anotations. Extract queries with a non empty long answer anotation."
   ]
  },
  {
   "cell_type": "code",
   "execution_count": 141,
   "metadata": {},
   "outputs": [
    {
     "name": "stdout",
     "output_type": "stream",
     "text": [
      "152148\n"
     ]
    }
   ],
   "source": [
    "nq_data_answered = []\n",
    "\n",
    "for i in data_range:\n",
    "    l = nq_data[i]['annotations'][0]\n",
    "    if l['long_answer']['start_token'] != -1:\n",
    "        nq_data_answered.append(nq_data[i])\n",
    "        \n",
    "print(len(nq_data_answered))"
   ]
  },
  {
   "cell_type": "code",
   "execution_count": 23,
   "metadata": {},
   "outputs": [],
   "source": [
    "assert len(nq_data_answered) == ann_count - no_long_ans_count"
   ]
  },
  {
   "cell_type": "markdown",
   "metadata": {},
   "source": [
    "Extract queries for which the anotators could not find an answer in the article (in the alocated time)."
   ]
  },
  {
   "cell_type": "code",
   "execution_count": 61,
   "metadata": {},
   "outputs": [
    {
     "name": "stdout",
     "output_type": "stream",
     "text": [
      "155225\n"
     ]
    }
   ],
   "source": [
    "nq_data_no_l_ans = []\n",
    "\n",
    "for i in data_range:\n",
    "    l = nq_data[i]['annotations'][0]\n",
    "    if l['long_answer']['end_token'] == -1:\n",
    "        nq_data_no_l_ans.append(nq_data[i])\n",
    "        \n",
    "print(len(nq_data_no_l_ans))"
   ]
  },
  {
   "cell_type": "code",
   "execution_count": 34,
   "metadata": {},
   "outputs": [],
   "source": [
    "assert len(nq_data_no_l_ans) == no_long_ans_count"
   ]
  },
  {
   "cell_type": "markdown",
   "metadata": {},
   "source": [
    "## Shrink unanswered sample size\n",
    "Extract a sample of only `5%` of the unannotated (i.e. unanswered) data."
   ]
  },
  {
   "cell_type": "code",
   "execution_count": 104,
   "metadata": {},
   "outputs": [],
   "source": [
    "import random\n",
    "five_p_no_ans = len(nq_data_no_l_ans) // 20 \n",
    "nq_data_no_l_ans_5 = random.sample(nq_data_no_l_ans, five_p_no_ans)"
   ]
  },
  {
   "cell_type": "code",
   "execution_count": 105,
   "metadata": {},
   "outputs": [],
   "source": [
    "assert len(nq_data_no_l_ans_5) == five_p_no_ans"
   ]
  },
  {
   "cell_type": "markdown",
   "metadata": {},
   "source": [
    "Merge the 5% of no answer data sample back into the answered data subset."
   ]
  },
  {
   "cell_type": "code",
   "execution_count": 103,
   "metadata": {},
   "outputs": [
    {
     "name": "stdout",
     "output_type": "stream",
     "text": [
      "159909\n"
     ]
    }
   ],
   "source": [
    "nq_sampled_data = nq_data_answered + nq_data_no_l_ans_5\n",
    "print(len(nq_sampled_data))"
   ]
  },
  {
   "cell_type": "markdown",
   "metadata": {},
   "source": [
    "Ensure the data is not partitioned by presence of annotations."
   ]
  },
  {
   "cell_type": "code",
   "execution_count": 40,
   "metadata": {},
   "outputs": [],
   "source": [
    "random.shuffle(nq_sampled_data)"
   ]
  },
  {
   "cell_type": "code",
   "execution_count": 102,
   "metadata": {},
   "outputs": [
    {
     "name": "stdout",
     "output_type": "stream",
     "text": [
      "159909\n"
     ]
    }
   ],
   "source": [
    "print(len(nq_sampled_data))"
   ]
  },
  {
   "cell_type": "markdown",
   "metadata": {},
   "source": [
    "Write the newly sampled data to a `.jsonl` file."
   ]
  },
  {
   "cell_type": "code",
   "execution_count": 42,
   "metadata": {},
   "outputs": [],
   "source": [
    "def write_jsonl(data, output_path, append=False):\n",
    "    \"\"\"\n",
    "    Write list of objects to a JSON lines file.\n",
    "    \"\"\"\n",
    "    mode = 'a+' if append else 'w'\n",
    "    with open(output_path, mode, encoding='utf-8') as f:\n",
    "        for line in data:\n",
    "            json_record = json.dumps(line, ensure_ascii=False)\n",
    "            f.write(json_record + '\\n')\n",
    "    print(f'Wrote {len(data)} records to {output_path}')"
   ]
  },
  {
   "cell_type": "code",
   "execution_count": 43,
   "metadata": {},
   "outputs": [
    {
     "name": "stdout",
     "output_type": "stream",
     "text": [
      "Wrote 159909 records to nq_sampled_5p_no_ans.jsonl\n"
     ]
    }
   ],
   "source": [
    "write_jsonl(nq_sampled_data, 'nq_sampled_5p_no_ans.jsonl')"
   ]
  },
  {
   "cell_type": "code",
   "execution_count": 45,
   "metadata": {},
   "outputs": [
    {
     "data": {
      "text/plain": [
       "8.91807780880481"
      ]
     },
     "execution_count": 45,
     "metadata": {},
     "output_type": "execute_result"
    }
   ],
   "source": [
    "from pathlib import Path\n",
    "Path('nq_sampled_10p_no_ans.jsonl').stat().st_size / 1024**3"
   ]
  },
  {
   "cell_type": "markdown",
   "metadata": {},
   "source": [
    "Wrangled data size of the `.jsonl` uncompressed file is ~9.5GB. "
   ]
  },
  {
   "cell_type": "markdown",
   "metadata": {},
   "source": [
    "# EDA of questions by category "
   ]
  },
  {
   "cell_type": "code",
   "execution_count": 93,
   "metadata": {},
   "outputs": [],
   "source": [
    "data_size_5 = len(nq_sampled_data)\n",
    "data_range_5 = range(data_size_5)"
   ]
  },
  {
   "cell_type": "markdown",
   "metadata": {},
   "source": [
    "Set up constants for ranging over sampled data."
   ]
  },
  {
   "cell_type": "code",
   "execution_count": 205,
   "metadata": {},
   "outputs": [
    {
     "data": {
      "text/plain": [
       "7761"
      ]
     },
     "execution_count": 205,
     "metadata": {},
     "output_type": "execute_result"
    }
   ],
   "source": [
    "size_no_la = len(nq_data_no_l_ans_5)\n",
    "size_no_la"
   ]
  },
  {
   "cell_type": "code",
   "execution_count": 206,
   "metadata": {},
   "outputs": [
    {
     "data": {
      "text/plain": [
       "7761"
      ]
     },
     "execution_count": 206,
     "metadata": {},
     "output_type": "execute_result"
    }
   ],
   "source": [
    "five_p_no_ans"
   ]
  },
  {
   "cell_type": "markdown",
   "metadata": {},
   "source": [
    "## Questions with no long and no boolean answer"
   ]
  },
  {
   "cell_type": "code",
   "execution_count": 133,
   "metadata": {},
   "outputs": [
    {
     "name": "stdout",
     "output_type": "stream",
     "text": [
      "0\n"
     ]
    }
   ],
   "source": [
    "nq_data_5_no_la_boolean = []\n",
    "\n",
    "for i in data_range_5:\n",
    "    l = nq_data[i]['annotations'][0]\n",
    "    if l['long_answer']['end_token'] == -1:\n",
    "        if l['yes_no_answer'] != 'NONE':\n",
    "            nq_data_5_no_la_boolean.append(nq_data[i])\n",
    "\n",
    "size_no_la_bool_a = len(nq_data_5_no_la_boolean)\n",
    "print(size_no_la_bool_a)"
   ]
  },
  {
   "cell_type": "markdown",
   "metadata": {},
   "source": [
    "## Questions with both long and boolean answer"
   ]
  },
  {
   "cell_type": "code",
   "execution_count": 207,
   "metadata": {},
   "outputs": [
    {
     "name": "stdout",
     "output_type": "stream",
     "text": [
      "3798\n"
     ]
    }
   ],
   "source": [
    "nq_data_5_boolean = []\n",
    "\n",
    "for i in data_range:\n",
    "    l = nq_data[i]['annotations'][0]\n",
    "    if l['long_answer']['end_token'] != -1:\n",
    "        if l['yes_no_answer'] != 'NONE':\n",
    "            nq_data_5_boolean.append(nq_data[i])\n",
    "\n",
    "size_bool_a = len(nq_data_5_boolean)\n",
    "print(size_bool_a)"
   ]
  },
  {
   "cell_type": "code",
   "execution_count": 208,
   "metadata": {},
   "outputs": [
    {
     "name": "stdout",
     "output_type": "stream",
     "text": [
      "3798\n"
     ]
    }
   ],
   "source": [
    "nq_data_5_boolean = []\n",
    "\n",
    "for i in data_range:\n",
    "    l = nq_data[i]['annotations'][0]\n",
    "    if l['long_answer']['end_token'] != -1:\n",
    "        if l['yes_no_answer'] == 'YES' or l['yes_no_answer'] == 'NO':\n",
    "            nq_data_5_boolean.append(nq_data[i])\n",
    "\n",
    "size_bool_a = len(nq_data_5_boolean)\n",
    "print(size_bool_a)"
   ]
  },
  {
   "cell_type": "markdown",
   "metadata": {},
   "source": [
    "## Questions with long answer but neither boolean nor short answer"
   ]
  },
  {
   "cell_type": "code",
   "execution_count": 171,
   "metadata": {},
   "outputs": [
    {
     "name": "stdout",
     "output_type": "stream",
     "text": [
      "41424\n"
     ]
    }
   ],
   "source": [
    "nq_data_5_la_no_sa_no_ba = []\n",
    "\n",
    "for i in data_range_5:\n",
    "    l = nq_sampled_data[i]['annotations'][0]\n",
    "    if l['long_answer']['end_token'] != -1:\n",
    "        if len(l['short_answers']) <= 0:\n",
    "            if l['yes_no_answer'] == 'NONE':\n",
    "                nq_data_5_la_no_sa_no_ba.append(nq_data[i])\n",
    "\n",
    "size_la_no_sa_no_ba = len(nq_data_5_la_no_sa_no_ba)\n",
    "print(size_la_no_sa_no_ba)"
   ]
  },
  {
   "cell_type": "markdown",
   "metadata": {},
   "source": [
    "## Questions with both long and short answers"
   ]
  },
  {
   "cell_type": "code",
   "execution_count": 172,
   "metadata": {},
   "outputs": [
    {
     "name": "stdout",
     "output_type": "stream",
     "text": [
      "106926\n"
     ]
    }
   ],
   "source": [
    "nq_data_5_la_and_sa = []\n",
    "\n",
    "for i in data_range_5:\n",
    "    l = nq_sampled_data[i]['annotations'][0]\n",
    "    if l['long_answer']['end_token'] != -1:\n",
    "        if len(l['short_answers']) > 0:\n",
    "            nq_data_5_la_and_sa.append(nq_data[i])\n",
    "\n",
    "size_la_and_sa = len(nq_data_5_la_and_sa)\n",
    "print(size_la_and_sa)"
   ]
  },
  {
   "cell_type": "markdown",
   "metadata": {},
   "source": [
    "## Question with a non-empty long answer"
   ]
  },
  {
   "cell_type": "code",
   "execution_count": 173,
   "metadata": {},
   "outputs": [
    {
     "name": "stdout",
     "output_type": "stream",
     "text": [
      "152148\n"
     ]
    }
   ],
   "source": [
    "nq_data_5_la = []\n",
    "\n",
    "for i in data_range_5:\n",
    "    l = nq_sampled_data[i]['annotations'][0]\n",
    "    if l['long_answer']['end_token'] != -1:\n",
    "        nq_data_5_la.append(nq_data[i])\n",
    "\n",
    "size_la = len(nq_data_5_la)\n",
    "print(size_la)"
   ]
  },
  {
   "cell_type": "code",
   "execution_count": 174,
   "metadata": {},
   "outputs": [],
   "source": [
    "assert(size_la == size_la_and_sa + size_la_no_sa)"
   ]
  },
  {
   "cell_type": "code",
   "execution_count": 175,
   "metadata": {},
   "outputs": [
    {
     "name": "stdout",
     "output_type": "stream",
     "text": [
      "7761\n"
     ]
    }
   ],
   "source": [
    "nq_data_5_no_la = []\n",
    "\n",
    "for i in data_range_5:\n",
    "    l = nq_sampled_data[i]['annotations'][0]\n",
    "    if l['long_answer']['end_token'] == -1:\n",
    "        nq_data_5_no_la.append(nq_data[i])\n",
    "\n",
    "size_5_no_la = len(nq_data_5_no_la)\n",
    "print(size_5_no_la)"
   ]
  },
  {
   "cell_type": "markdown",
   "metadata": {},
   "source": [
    "## Questions with both long and boolean answer (in sampled range)"
   ]
  },
  {
   "cell_type": "code",
   "execution_count": 210,
   "metadata": {},
   "outputs": [
    {
     "name": "stdout",
     "output_type": "stream",
     "text": [
      "3798\n"
     ]
    }
   ],
   "source": [
    "nq_data_la_and_ba = []\n",
    "\n",
    "for i in data_range_5:\n",
    "    l = nq_sampled_data[i]['annotations'][0]\n",
    "    if l['long_answer']['end_token'] != -1:\n",
    "        if l['yes_no_answer'] != 'NONE':\n",
    "            nq_data_la_and_ba.append(nq_data[i])\n",
    "\n",
    "size_la_and_ba = len(nq_data_la_and_ba)\n",
    "print(size_la_and_ba)"
   ]
  },
  {
   "cell_type": "code",
   "execution_count": 211,
   "metadata": {},
   "outputs": [],
   "source": [
    "assert(size_no_la == size_5_no_la)"
   ]
  },
  {
   "cell_type": "markdown",
   "metadata": {},
   "source": [
    "## Final runthrough by question category"
   ]
  },
  {
   "cell_type": "code",
   "execution_count": 232,
   "metadata": {},
   "outputs": [
    {
     "data": {
      "text/plain": [
       "159909"
      ]
     },
     "execution_count": 232,
     "metadata": {},
     "output_type": "execute_result"
    }
   ],
   "source": [
    "labels = 'Both Long and Short answers', 'Both Long and Boolean answers', 'Long but neither Short nor Boolean answers', 'No Long answer (neither short, nor boolean)'\n",
    "sizes = [size_la_and_sa, size_la_and_ba, size_la_no_sa_no_ba, size_5_no_la]\n",
    "sum(sizes)"
   ]
  },
  {
   "cell_type": "code",
   "execution_count": 233,
   "metadata": {},
   "outputs": [
    {
     "data": {
      "text/plain": [
       "159909"
      ]
     },
     "execution_count": 233,
     "metadata": {},
     "output_type": "execute_result"
    }
   ],
   "source": [
    "len(nq_sampled_data)"
   ]
  },
  {
   "cell_type": "code",
   "execution_count": 234,
   "metadata": {},
   "outputs": [],
   "source": [
    "assert(sum(sizes) == len(nq_sampled_data))"
   ]
  },
  {
   "cell_type": "code",
   "execution_count": 235,
   "metadata": {},
   "outputs": [
    {
     "data": {
      "image/png": "[encoded data removed]",
      "text/plain": [
       "<Figure size 432x288 with 1 Axes>"
      ]
     },
     "metadata": {},
     "output_type": "display_data"
    }
   ],
   "source": [
    "import matplotlib.pyplot as plt\n",
    "\n",
    "colors = ['yellowgreen', 'gold', 'lightskyblue', 'lightcoral']\n",
    "explode = (0, 0, 0, 0)\n",
    "plt.pie(sizes, explode=explode, labels=labels, colors=colors,\n",
    "        autopct='%1.1f%%', \n",
    "        shadow=False, \n",
    "        startangle=90,\n",
    "        counterclock=False\n",
    "       )\n",
    "plt.axis('equal')\n",
    "plt.show()"
   ]
  },
  {
   "cell_type": "code",
   "execution_count": 236,
   "metadata": {},
   "outputs": [],
   "source": [
    "eighty_p_la_and_sa_count = (len(nq_data_5_la_and_sa) // 10) * 8 \n",
    "eighty_p_la_and_sa_5 = random.sample(nq_data_5_la_and_sa, eighty_p_la_and_sa_count)\n",
    "\n",
    "final_data = eighty_p_la_and_sa_5 + nq_data_la_and_ba + nq_data_5_no_la + nq_data_5_la_no_sa_no_ba\n",
    "\n",
    "random.shuffle(final_data)"
   ]
  },
  {
   "cell_type": "code",
   "execution_count": 239,
   "metadata": {},
   "outputs": [
    {
     "data": {
      "image/png": "[encoded data removed]",
      "text/plain": [
       "<Figure size 432x288 with 1 Axes>"
      ]
     },
     "metadata": {},
     "output_type": "display_data"
    }
   ],
   "source": [
    "final_sizes = [eighty_p_la_and_sa_count, size_la_and_ba, size_la_no_sa_no_ba, size_5_no_la]\n",
    "\n",
    "plt.pie(final_sizes, explode=explode, labels=labels, colors=colors,\n",
    "        autopct='%1.1f%%', \n",
    "        shadow=False, startangle=135\n",
    "       )\n",
    "plt.axis('equal')\n",
    "plt.show()"
   ]
  },
  {
   "cell_type": "code",
   "execution_count": 192,
   "metadata": {},
   "outputs": [
    {
     "name": "stdout",
     "output_type": "stream",
     "text": [
      "Wrote 138519 records to final_data.jsonl\n"
     ]
    }
   ],
   "source": [
    "write_jsonl(final_data, 'final_data.jsonl')"
   ]
  },
  {
   "cell_type": "code",
   "execution_count": 193,
   "metadata": {},
   "outputs": [
    {
     "data": {
      "text/plain": [
       "7.271546839736402"
      ]
     },
     "execution_count": 193,
     "metadata": {},
     "output_type": "execute_result"
    }
   ],
   "source": [
    "Path('final_data.jsonl').stat().st_size / 1024**3"
   ]
  },
  {
   "cell_type": "code",
   "execution_count": 195,
   "metadata": {},
   "outputs": [
    {
     "data": {
      "text/plain": [
       "138519"
      ]
     },
     "execution_count": 195,
     "metadata": {},
     "output_type": "execute_result"
    }
   ],
   "source": [
    "instances = len(final_data)\n",
    "instances"
   ]
  },
  {
   "cell_type": "code",
   "execution_count": 199,
   "metadata": {},
   "outputs": [
    {
     "name": "stdout",
     "output_type": "stream",
     "text": [
      "7757 41417 3740 85604\n"
     ]
    }
   ],
   "source": [
    "not_answered = int(5.6 * instances / 100)\n",
    "only_long = int(29.9 * instances / 100)\n",
    "boolean = int(2.7 * instances / 100)\n",
    "short = int(61.8 * instances / 100)\n",
    "print(not_answered, only_long, boolean, short)"
   ]
  },
  {
   "cell_type": "markdown",
   "metadata": {},
   "source": [
    "To sum up: the final data is a `.jsonl` file of about 8GB in size with a total of about 140K instances. There are about 8K questions with no answer at all, 42K that only have a long answer but no boolean or short answer, about 4K questions have both a long answer and a yes/no answer, and about 90K questions have both a paragraph long answer and a span-size short answer."
   ]
  },
  {
   "cell_type": "markdown",
   "metadata": {},
   "source": [
    "# Create minisized dev data file(s)"
   ]
  },
  {
   "cell_type": "code",
   "execution_count": null,
   "metadata": {},
   "outputs": [],
   "source": [
    "# head -1 data/mini/nq_sampled_10p_no_ans.jsonl > data/mini/nq_sampled_10p_no_ans_01.jsonl\n",
    "# head -10 data/mini/nq_sampled_10p_no_ans.jsonl > data/mini/nq_sampled_10p_no_ans_10.jsonl\n",
    "# head -100 data/mini/nq_sampled_10p_no_ans.jsonl > data/mini/nq_sampled_10p_no_ans_100.jsonl\n",
    "# head -1000 data/mini/nq_sampled_10p_no_ans.jsonl > data/mini/nq_sampled_10p_no_ans_1000.jsonl\n",
    "# cd simplified\n",
    "# head -15000 nq_sampled_10p_no_ans.jsonl > ../mini/nq_sampled_10p_no_ans_15K.jsonl\n",
    "# tail -25000 nq_sampled_10p_no_ans.jsonl > ../mini/nq_sampled_10p_no_ans_25K.jsonl"
   ]
  },
  {
   "cell_type": "markdown",
   "metadata": {},
   "source": [
    "# EDA by type of questions"
   ]
  },
  {
   "cell_type": "code",
   "execution_count": null,
   "metadata": {},
   "outputs": [],
   "source": [
    "# head -10 final_data.jsonl > final_data_10.jsonl\n",
    "# TODO: group by question types: who/which/when/where/how/all/list(of)/etc."
   ]
  },
  {
   "cell_type": "code",
   "execution_count": 242,
   "metadata": {},
   "outputs": [
    {
     "name": "stdout",
     "output_type": "stream",
     "text": [
      "Loaded 138519 records from final_data.jsonl\n"
     ]
    }
   ],
   "source": [
    "nq_data = read_jsonl(f'final_data.jsonl')\n",
    "nq_df = pd.DataFrame(nq_data)"
   ]
  },
  {
   "cell_type": "code",
   "execution_count": 6,
   "metadata": {},
   "outputs": [
    {
     "name": "stdout",
     "output_type": "stream",
     "text": [
      "Loaded 10 records from final_data_10.jsonl\n"
     ]
    }
   ],
   "source": [
    "qa_data = read_jsonl(f'final_data_10.jsonl')\n",
    "qa_df = pd.DataFrame(qa_data)"
   ]
  },
  {
   "cell_type": "code",
   "execution_count": 10,
   "metadata": {},
   "outputs": [
    {
     "data": {
      "text/html": [
       "<div>\n",
       "<style scoped>\n",
       "    .dataframe tbody tr th:only-of-type {\n",
       "        vertical-align: middle;\n",
       "    }\n",
       "\n",
       "    .dataframe tbody tr th {\n",
       "        vertical-align: top;\n",
       "    }\n",
       "\n",
       "    .dataframe thead th {\n",
       "        text-align: right;\n",
       "    }\n",
       "</style>\n",
       "<table border=\"1\" class=\"dataframe\">\n",
       "  <thead>\n",
       "    <tr style=\"text-align: right;\">\n",
       "      <th></th>\n",
       "      <th>annotations</th>\n",
       "    </tr>\n",
       "  </thead>\n",
       "  <tbody>\n",
       "    <tr>\n",
       "      <th>0</th>\n",
       "      <td>[{'yes_no_answer': 'NONE', 'long_answer': {'start_token': -1, 'candidate_index': -1, 'end_token': -1}, 'short_answers': [], 'annotation_id': 17144205730399169735}]</td>\n",
       "    </tr>\n",
       "    <tr>\n",
       "      <th>1</th>\n",
       "      <td>[{'yes_no_answer': 'NONE', 'long_answer': {'start_token': 115, 'candidate_index': 6, 'end_token': 136}, 'short_answers': [{'start_token': 126, 'end_token': 134}], 'annotation_id': 1043754834004502...</td>\n",
       "    </tr>\n",
       "    <tr>\n",
       "      <th>2</th>\n",
       "      <td>[{'yes_no_answer': 'NONE', 'long_answer': {'start_token': -1, 'candidate_index': -1, 'end_token': -1}, 'short_answers': [], 'annotation_id': 14788766791369217939}]</td>\n",
       "    </tr>\n",
       "    <tr>\n",
       "      <th>3</th>\n",
       "      <td>[{'yes_no_answer': 'NONE', 'long_answer': {'start_token': 683, 'candidate_index': 22, 'end_token': 822}, 'short_answers': [{'start_token': 785, 'end_token': 788}], 'annotation_id': 140813905137883...</td>\n",
       "    </tr>\n",
       "    <tr>\n",
       "      <th>4</th>\n",
       "      <td>[{'yes_no_answer': 'NONE', 'long_answer': {'start_token': -1, 'candidate_index': -1, 'end_token': -1}, 'short_answers': [], 'annotation_id': 4288498609737821584}]</td>\n",
       "    </tr>\n",
       "    <tr>\n",
       "      <th>5</th>\n",
       "      <td>[{'yes_no_answer': 'NONE', 'long_answer': {'start_token': -1, 'candidate_index': -1, 'end_token': -1}, 'short_answers': [], 'annotation_id': 12613195174997804504}]</td>\n",
       "    </tr>\n",
       "    <tr>\n",
       "      <th>6</th>\n",
       "      <td>[{'yes_no_answer': 'NONE', 'long_answer': {'start_token': 181, 'candidate_index': 5, 'end_token': 6848}, 'short_answers': [], 'annotation_id': 15553322195512004649}]</td>\n",
       "    </tr>\n",
       "    <tr>\n",
       "      <th>7</th>\n",
       "      <td>[{'yes_no_answer': 'NONE', 'long_answer': {'start_token': -1, 'candidate_index': -1, 'end_token': -1}, 'short_answers': [], 'annotation_id': 16808554699638739768}]</td>\n",
       "    </tr>\n",
       "    <tr>\n",
       "      <th>8</th>\n",
       "      <td>[{'yes_no_answer': 'NONE', 'long_answer': {'start_token': 6332, 'candidate_index': 54, 'end_token': 7290}, 'short_answers': [], 'annotation_id': 12097927264298560903}]</td>\n",
       "    </tr>\n",
       "    <tr>\n",
       "      <th>9</th>\n",
       "      <td>[{'yes_no_answer': 'NONE', 'long_answer': {'start_token': 55, 'candidate_index': 0, 'end_token': 85}, 'short_answers': [{'start_token': 75, 'end_token': 76}], 'annotation_id': 5870482147346936469}]</td>\n",
       "    </tr>\n",
       "  </tbody>\n",
       "</table>\n",
       "</div>"
      ],
      "text/plain": [
       "                                                                                                                                                                                               annotations\n",
       "0                                      [{'yes_no_answer': 'NONE', 'long_answer': {'start_token': -1, 'candidate_index': -1, 'end_token': -1}, 'short_answers': [], 'annotation_id': 17144205730399169735}]\n",
       "1  [{'yes_no_answer': 'NONE', 'long_answer': {'start_token': 115, 'candidate_index': 6, 'end_token': 136}, 'short_answers': [{'start_token': 126, 'end_token': 134}], 'annotation_id': 1043754834004502...\n",
       "2                                      [{'yes_no_answer': 'NONE', 'long_answer': {'start_token': -1, 'candidate_index': -1, 'end_token': -1}, 'short_answers': [], 'annotation_id': 14788766791369217939}]\n",
       "3  [{'yes_no_answer': 'NONE', 'long_answer': {'start_token': 683, 'candidate_index': 22, 'end_token': 822}, 'short_answers': [{'start_token': 785, 'end_token': 788}], 'annotation_id': 140813905137883...\n",
       "4                                       [{'yes_no_answer': 'NONE', 'long_answer': {'start_token': -1, 'candidate_index': -1, 'end_token': -1}, 'short_answers': [], 'annotation_id': 4288498609737821584}]\n",
       "5                                      [{'yes_no_answer': 'NONE', 'long_answer': {'start_token': -1, 'candidate_index': -1, 'end_token': -1}, 'short_answers': [], 'annotation_id': 12613195174997804504}]\n",
       "6                                    [{'yes_no_answer': 'NONE', 'long_answer': {'start_token': 181, 'candidate_index': 5, 'end_token': 6848}, 'short_answers': [], 'annotation_id': 15553322195512004649}]\n",
       "7                                      [{'yes_no_answer': 'NONE', 'long_answer': {'start_token': -1, 'candidate_index': -1, 'end_token': -1}, 'short_answers': [], 'annotation_id': 16808554699638739768}]\n",
       "8                                  [{'yes_no_answer': 'NONE', 'long_answer': {'start_token': 6332, 'candidate_index': 54, 'end_token': 7290}, 'short_answers': [], 'annotation_id': 12097927264298560903}]\n",
       "9    [{'yes_no_answer': 'NONE', 'long_answer': {'start_token': 55, 'candidate_index': 0, 'end_token': 85}, 'short_answers': [{'start_token': 75, 'end_token': 76}], 'annotation_id': 5870482147346936469}]"
      ]
     },
     "execution_count": 10,
     "metadata": {},
     "output_type": "execute_result"
    }
   ],
   "source": [
    "pd.set_option('display.max_colwidth', 200)\n",
    "qa_df[['annotations']]"
   ]
  },
  {
   "cell_type": "code",
   "execution_count": 9,
   "metadata": {},
   "outputs": [
    {
     "data": {
      "text/html": [
       "<div>\n",
       "<style scoped>\n",
       "    .dataframe tbody tr th:only-of-type {\n",
       "        vertical-align: middle;\n",
       "    }\n",
       "\n",
       "    .dataframe tbody tr th {\n",
       "        vertical-align: top;\n",
       "    }\n",
       "\n",
       "    .dataframe thead th {\n",
       "        text-align: right;\n",
       "    }\n",
       "</style>\n",
       "<table border=\"1\" class=\"dataframe\">\n",
       "  <thead>\n",
       "    <tr style=\"text-align: right;\">\n",
       "      <th></th>\n",
       "      <th>yes_no_answer</th>\n",
       "      <th>short_answers</th>\n",
       "      <th>annotation_id</th>\n",
       "      <th>long_answer.start_token</th>\n",
       "      <th>long_answer.candidate_index</th>\n",
       "      <th>long_answer.end_token</th>\n",
       "    </tr>\n",
       "  </thead>\n",
       "  <tbody>\n",
       "    <tr>\n",
       "      <th>0</th>\n",
       "      <td>NONE</td>\n",
       "      <td>[]</td>\n",
       "      <td>1.714421e+19</td>\n",
       "      <td>-1</td>\n",
       "      <td>-1</td>\n",
       "      <td>-1</td>\n",
       "    </tr>\n",
       "    <tr>\n",
       "      <th>0</th>\n",
       "      <td>NONE</td>\n",
       "      <td>[{'start_token': 126, 'end_token': 134}]</td>\n",
       "      <td>1.043755e+19</td>\n",
       "      <td>115</td>\n",
       "      <td>6</td>\n",
       "      <td>136</td>\n",
       "    </tr>\n",
       "    <tr>\n",
       "      <th>0</th>\n",
       "      <td>NONE</td>\n",
       "      <td>[]</td>\n",
       "      <td>1.478877e+19</td>\n",
       "      <td>-1</td>\n",
       "      <td>-1</td>\n",
       "      <td>-1</td>\n",
       "    </tr>\n",
       "    <tr>\n",
       "      <th>0</th>\n",
       "      <td>NONE</td>\n",
       "      <td>[{'start_token': 785, 'end_token': 788}]</td>\n",
       "      <td>1.408139e+19</td>\n",
       "      <td>683</td>\n",
       "      <td>22</td>\n",
       "      <td>822</td>\n",
       "    </tr>\n",
       "    <tr>\n",
       "      <th>0</th>\n",
       "      <td>NONE</td>\n",
       "      <td>[]</td>\n",
       "      <td>4.288499e+18</td>\n",
       "      <td>-1</td>\n",
       "      <td>-1</td>\n",
       "      <td>-1</td>\n",
       "    </tr>\n",
       "    <tr>\n",
       "      <th>0</th>\n",
       "      <td>NONE</td>\n",
       "      <td>[]</td>\n",
       "      <td>1.261320e+19</td>\n",
       "      <td>-1</td>\n",
       "      <td>-1</td>\n",
       "      <td>-1</td>\n",
       "    </tr>\n",
       "    <tr>\n",
       "      <th>0</th>\n",
       "      <td>NONE</td>\n",
       "      <td>[]</td>\n",
       "      <td>1.555332e+19</td>\n",
       "      <td>181</td>\n",
       "      <td>5</td>\n",
       "      <td>6848</td>\n",
       "    </tr>\n",
       "    <tr>\n",
       "      <th>0</th>\n",
       "      <td>NONE</td>\n",
       "      <td>[]</td>\n",
       "      <td>1.680855e+19</td>\n",
       "      <td>-1</td>\n",
       "      <td>-1</td>\n",
       "      <td>-1</td>\n",
       "    </tr>\n",
       "    <tr>\n",
       "      <th>0</th>\n",
       "      <td>NONE</td>\n",
       "      <td>[]</td>\n",
       "      <td>1.209793e+19</td>\n",
       "      <td>6332</td>\n",
       "      <td>54</td>\n",
       "      <td>7290</td>\n",
       "    </tr>\n",
       "    <tr>\n",
       "      <th>0</th>\n",
       "      <td>NONE</td>\n",
       "      <td>[{'start_token': 75, 'end_token': 76}]</td>\n",
       "      <td>5.870482e+18</td>\n",
       "      <td>55</td>\n",
       "      <td>0</td>\n",
       "      <td>85</td>\n",
       "    </tr>\n",
       "  </tbody>\n",
       "</table>\n",
       "</div>"
      ],
      "text/plain": [
       "  yes_no_answer                             short_answers  annotation_id  \\\n",
       "0          NONE                                        []   1.714421e+19   \n",
       "0          NONE  [{'start_token': 126, 'end_token': 134}]   1.043755e+19   \n",
       "0          NONE                                        []   1.478877e+19   \n",
       "0          NONE  [{'start_token': 785, 'end_token': 788}]   1.408139e+19   \n",
       "0          NONE                                        []   4.288499e+18   \n",
       "0          NONE                                        []   1.261320e+19   \n",
       "0          NONE                                        []   1.555332e+19   \n",
       "0          NONE                                        []   1.680855e+19   \n",
       "0          NONE                                        []   1.209793e+19   \n",
       "0          NONE    [{'start_token': 75, 'end_token': 76}]   5.870482e+18   \n",
       "\n",
       "   long_answer.start_token  long_answer.candidate_index  long_answer.end_token  \n",
       "0                       -1                           -1                     -1  \n",
       "0                      115                            6                    136  \n",
       "0                       -1                           -1                     -1  \n",
       "0                      683                           22                    822  \n",
       "0                       -1                           -1                     -1  \n",
       "0                       -1                           -1                     -1  \n",
       "0                      181                            5                   6848  \n",
       "0                       -1                           -1                     -1  \n",
       "0                     6332                           54                   7290  \n",
       "0                       55                            0                     85  "
      ]
     },
     "execution_count": 9,
     "metadata": {},
     "output_type": "execute_result"
    }
   ],
   "source": [
    "from pandas.io.json import json_normalize\n",
    "\n",
    "nq_out = pd.DataFrame()\n",
    "\n",
    "for i in qa_data:\n",
    "  line_norm = json_normalize(i['annotations'])\n",
    "  nq_out = pd.concat([nq_out, line_norm])\n",
    "\n",
    "nq_out"
   ]
  },
  {
   "cell_type": "code",
   "execution_count": null,
   "metadata": {},
   "outputs": [],
   "source": []
  },
  {
   "cell_type": "markdown",
   "metadata": {},
   "source": [
    "# EDA by type of answers"
   ]
  },
  {
   "cell_type": "code",
   "execution_count": null,
   "metadata": {},
   "outputs": [],
   "source": [
    "# TODO: group by answer types: paragraph/table/list/etc."
   ]
  }
 ],
 "metadata": {
  "kernelspec": {
   "display_name": "Python 3",
   "language": "python",
   "name": "python3"
  },
  "language_info": {
   "codemirror_mode": {
    "name": "ipython",
    "version": 3
   },
   "file_extension": ".py",
   "mimetype": "text/x-python",
   "name": "python",
   "nbconvert_exporter": "python",
   "pygments_lexer": "ipython3",
   "version": "3.7.3"
  }
 },
 "nbformat": 4,
 "nbformat_minor": 2
}
