{
 "cells": [
  {
   "cell_type": "markdown",
   "metadata": {},
   "source": [
    "Mount the drive"
   ]
  },
  {
   "cell_type": "code",
   "execution_count": null,
   "metadata": {},
   "outputs": [],
   "source": [
    "from google.colab import drive\n",
    "DRIVE_ROOT = '/content/drive'\n",
    "drive.mount(DRIVE_ROOT)\n"
   ]
  },
  {
   "cell_type": "markdown",
   "metadata": {},
   "source": [
    "Extract a `.gz` file"
   ]
  },
  {
   "cell_type": "code",
   "execution_count": null,
   "metadata": {},
   "outputs": [],
   "source": [
    "import gzip\n",
    "import shutil\n",
    "DATA_PATH = 'My Drive/data/train'\n",
    "\n",
    "with gzip.open(f'{DRIVE_ROOT}/{DATA_PATH}/nq-train-00.jsonl.gz', 'rb') as f_in:\n",
    "    with open(f'{DRIVE_ROOT}/{DATA_PATH}/nq-train-00.jsonl', 'wb') as f_out:\n",
    "        shutil.copyfileobj(f_in, f_out)"
   ]
  },
  {
   "cell_type": "markdown",
   "metadata": {},
   "source": [
    "Read data from a `.jsonl` file"
   ]
  },
  {
   "cell_type": "code",
   "execution_count": null,
   "metadata": {},
   "outputs": [],
   "source": [
    "import json\n",
    "import json_lines\n",
    "import pandas as pd\n",
    "\n",
    "def load_jsonl(input_path) -> list:\n",
    "    \"\"\"\n",
    "    Read list of objects from a JSON lines file.\n",
    "    \"\"\"\n",
    "    data = []\n",
    "    with open(input_path, 'r', encoding='utf-8') as f:\n",
    "        for line in f:\n",
    "            data.append(json.loads(line.rstrip('\\n|\\r')))\n",
    "    print('Loaded {} records from {}'.format(len(data), input_path))\n",
    "    return data"
   ]
  },
  {
   "cell_type": "markdown",
   "metadata": {},
   "source": [
    "Inspect the data frame"
   ]
  },
  {
   "cell_type": "code",
   "execution_count": 4,
   "metadata": {},
   "outputs": [
    {
     "data": {
      "text/html": [
       "<div>\n",
       "<style scoped>\n",
       "    .dataframe tbody tr th:only-of-type {\n",
       "        vertical-align: middle;\n",
       "    }\n",
       "\n",
       "    .dataframe tbody tr th {\n",
       "        vertical-align: top;\n",
       "    }\n",
       "\n",
       "    .dataframe thead th {\n",
       "        text-align: right;\n",
       "    }\n",
       "</style>\n",
       "<table border=\"1\" class=\"dataframe\">\n",
       "  <thead>\n",
       "    <tr style=\"text-align: right;\">\n",
       "      <th></th>\n",
       "      <th>example_id</th>\n",
       "      <th>question_text</th>\n",
       "      <th>question_tokens</th>\n",
       "      <th>document_url</th>\n",
       "    </tr>\n",
       "  </thead>\n",
       "  <tbody>\n",
       "    <tr>\n",
       "      <th>0</th>\n",
       "      <td>5225754983651766092</td>\n",
       "      <td>what purpose did seasonal monsoon winds have o...</td>\n",
       "      <td>[what, purpose, did, seasonal, monsoon, winds,...</td>\n",
       "      <td>https://en.wikipedia.org//w/index.php?title=Tr...</td>\n",
       "    </tr>\n",
       "    <tr>\n",
       "      <th>1</th>\n",
       "      <td>6986236841860957647</td>\n",
       "      <td>where did they film high school musical two</td>\n",
       "      <td>[where, did, they, film, high, school, musical...</td>\n",
       "      <td>https://en.wikipedia.org//w/index.php?title=Hi...</td>\n",
       "    </tr>\n",
       "    <tr>\n",
       "      <th>2</th>\n",
       "      <td>-3290814144789249484</td>\n",
       "      <td>who got the first nobel prize in physics</td>\n",
       "      <td>[who, got, the, first, nobel, prize, in, physics]</td>\n",
       "      <td>https://en.wikipedia.org//w/index.php?title=Li...</td>\n",
       "    </tr>\n",
       "    <tr>\n",
       "      <th>3</th>\n",
       "      <td>5745452844331879752</td>\n",
       "      <td>who has the rights to alice in wonderland</td>\n",
       "      <td>[who, has, the, rights, to, alice, in, wonderl...</td>\n",
       "      <td>https://en.wikipedia.org//w/index.php?title=Al...</td>\n",
       "    </tr>\n",
       "    <tr>\n",
       "      <th>4</th>\n",
       "      <td>8851020722386421469</td>\n",
       "      <td>when is the next deadpool movie being released</td>\n",
       "      <td>[when, is, the, next, deadpool, movie, being, ...</td>\n",
       "      <td>https://en.wikipedia.org//w/index.php?title=De...</td>\n",
       "    </tr>\n",
       "    <tr>\n",
       "      <th>...</th>\n",
       "      <td>...</td>\n",
       "      <td>...</td>\n",
       "      <td>...</td>\n",
       "      <td>...</td>\n",
       "    </tr>\n",
       "    <tr>\n",
       "      <th>195</th>\n",
       "      <td>-2446865335924530326</td>\n",
       "      <td>what is windows defender and what does it do</td>\n",
       "      <td>[what, is, windows, defender, and, what, does,...</td>\n",
       "      <td>https://en.wikipedia.org//w/index.php?title=Wi...</td>\n",
       "    </tr>\n",
       "    <tr>\n",
       "      <th>196</th>\n",
       "      <td>-4047248994442147533</td>\n",
       "      <td>when is the next time easter falls on april 11th</td>\n",
       "      <td>[when, is, the, next, time, easter, falls, on,...</td>\n",
       "      <td>https://en.wikipedia.org//w/index.php?title=Li...</td>\n",
       "    </tr>\n",
       "    <tr>\n",
       "      <th>197</th>\n",
       "      <td>-7428135141357814239</td>\n",
       "      <td>how far from the heavy rain of a thunder storm...</td>\n",
       "      <td>[how, far, from, the, heavy, rain, of, a, thun...</td>\n",
       "      <td>https://en.wikipedia.org//w/index.php?title=Th...</td>\n",
       "    </tr>\n",
       "    <tr>\n",
       "      <th>198</th>\n",
       "      <td>-510179348025098787</td>\n",
       "      <td>what does the board of directors consist of</td>\n",
       "      <td>[what, does, the, board, of, directors, consis...</td>\n",
       "      <td>https://en.wikipedia.org//w/index.php?title=Bo...</td>\n",
       "    </tr>\n",
       "    <tr>\n",
       "      <th>199</th>\n",
       "      <td>3262882280361419647</td>\n",
       "      <td>when do primary ossification centers appear in...</td>\n",
       "      <td>[when, do, primary, ossification, centers, app...</td>\n",
       "      <td>https://en.wikipedia.org//w/index.php?title=Os...</td>\n",
       "    </tr>\n",
       "  </tbody>\n",
       "</table>\n",
       "<p>200 rows × 4 columns</p>\n",
       "</div>"
      ],
      "text/plain": [
       "              example_id                                      question_text  \\\n",
       "0    5225754983651766092  what purpose did seasonal monsoon winds have o...   \n",
       "1    6986236841860957647        where did they film high school musical two   \n",
       "2   -3290814144789249484           who got the first nobel prize in physics   \n",
       "3    5745452844331879752          who has the rights to alice in wonderland   \n",
       "4    8851020722386421469     when is the next deadpool movie being released   \n",
       "..                   ...                                                ...   \n",
       "195 -2446865335924530326       what is windows defender and what does it do   \n",
       "196 -4047248994442147533   when is the next time easter falls on april 11th   \n",
       "197 -7428135141357814239  how far from the heavy rain of a thunder storm...   \n",
       "198  -510179348025098787        what does the board of directors consist of   \n",
       "199  3262882280361419647  when do primary ossification centers appear in...   \n",
       "\n",
       "                                       question_tokens  \\\n",
       "0    [what, purpose, did, seasonal, monsoon, winds,...   \n",
       "1    [where, did, they, film, high, school, musical...   \n",
       "2    [who, got, the, first, nobel, prize, in, physics]   \n",
       "3    [who, has, the, rights, to, alice, in, wonderl...   \n",
       "4    [when, is, the, next, deadpool, movie, being, ...   \n",
       "..                                                 ...   \n",
       "195  [what, is, windows, defender, and, what, does,...   \n",
       "196  [when, is, the, next, time, easter, falls, on,...   \n",
       "197  [how, far, from, the, heavy, rain, of, a, thun...   \n",
       "198  [what, does, the, board, of, directors, consis...   \n",
       "199  [when, do, primary, ossification, centers, app...   \n",
       "\n",
       "                                          document_url  \n",
       "0    https://en.wikipedia.org//w/index.php?title=Tr...  \n",
       "1    https://en.wikipedia.org//w/index.php?title=Hi...  \n",
       "2    https://en.wikipedia.org//w/index.php?title=Li...  \n",
       "3    https://en.wikipedia.org//w/index.php?title=Al...  \n",
       "4    https://en.wikipedia.org//w/index.php?title=De...  \n",
       "..                                                 ...  \n",
       "195  https://en.wikipedia.org//w/index.php?title=Wi...  \n",
       "196  https://en.wikipedia.org//w/index.php?title=Li...  \n",
       "197  https://en.wikipedia.org//w/index.php?title=Th...  \n",
       "198  https://en.wikipedia.org//w/index.php?title=Bo...  \n",
       "199  https://en.wikipedia.org//w/index.php?title=Os...  \n",
       "\n",
       "[200 rows x 4 columns]"
      ]
     },
     "execution_count": 4,
     "metadata": {},
     "output_type": "execute_result"
    }
   ],
   "source": [
    "DEV_PATH = 'My Drive/data'\n",
    "nq_sample_list = load_jsonl(f'{DEV_ROOT}/{DEV_PATH}/nq-dev-sample.jsonl')\n",
    "df = pd.DataFrame(nq_sample_list, columns=[\n",
    "    'example_id', 'question_text', 'question_tokens', 'document_url'\n",
    "]) # 'document_tokens', 'document_html'\n",
    "df"
   ]
  },
  {
   "cell_type": "markdown",
   "metadata": {},
   "source": [
    "Write data to a `.jsonl` file"
   ]
  },
  {
   "cell_type": "code",
   "execution_count": null,
   "metadata": {},
   "outputs": [],
   "source": [
    "\n",
    "def dump_jsonl(data, output_path, append=False):\n",
    "    \"\"\"\n",
    "    Write list of objects to a JSON lines file.\n",
    "    \"\"\"\n",
    "    mode = 'a+' if append else 'w'\n",
    "    with open(output_path, mode, encoding='utf-8') as f:\n",
    "        for line in data:\n",
    "            json_record = json.dumps(line, ensure_ascii=False)\n",
    "            f.write(json_record + '\\n')\n",
    "    print('Wrote {} records to {}'.format(len(data), output_path))"
   ]
  }
 ],
 "metadata": {
  "kernelspec": {
   "display_name": "Python 3",
   "language": "python",
   "name": "python3"
  },
  "language_info": {
   "codemirror_mode": {
    "name": "ipython",
    "version": 3
   },
   "file_extension": ".py",
   "mimetype": "text/x-python",
   "name": "python",
   "nbconvert_exporter": "python",
   "pygments_lexer": "ipython3",
   "version": "3.7.6"
  }
 },
 "nbformat": 4,
 "nbformat_minor": 4
}