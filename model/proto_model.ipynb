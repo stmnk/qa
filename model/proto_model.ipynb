{
 "cells": [
  {
   "cell_type": "code",
   "execution_count": 263,
   "metadata": {},
   "outputs": [],
   "source": [
    "import json\n",
    "import random\n",
    "import numpy as np\n",
    "import pandas as pd\n",
    "import tensorflow as tf\n",
    "from pandas.io.json import json_normalize\n",
    "from sklearn.model_selection import train_test_split\n",
    "\n",
    "pd.set_option('display.max_colwidth', 200)"
   ]
  },
  {
   "cell_type": "code",
   "execution_count": 264,
   "metadata": {},
   "outputs": [],
   "source": [
    "def read_jsonl_list(input_path) -> list:\n",
    "    \"\"\"\n",
    "    Read list of objects from a JSON lines file.\n",
    "    \"\"\"\n",
    "    data = []\n",
    "    with open(input_path, 'r', encoding='utf-8') as f:\n",
    "        for line in f:\n",
    "            line_data = json.loads(line.rstrip('\\n|\\r'))\n",
    "            data.append(line_data)\n",
    "    print(f'Loaded {len(data)} records from {input_path}')\n",
    "    return data"
   ]
  },
  {
   "cell_type": "code",
   "execution_count": 265,
   "metadata": {},
   "outputs": [
    {
     "name": "stdout",
     "output_type": "stream",
     "text": [
      "Loaded 4433 records from ../data/work/data_boolean_la_only.jsonl\n"
     ]
    },
    {
     "data": {
      "text/plain": [
       "Index(['question_text', 'boolean_answer', 'long_answer_html', 'example_id'], dtype='object')"
      ]
     },
     "execution_count": 265,
     "metadata": {},
     "output_type": "execute_result"
    }
   ],
   "source": [
    "dl = read_jsonl_list('../data/work/data_boolean_la_only.jsonl')\n",
    "df = pd.DataFrame(dl)\n",
    "df.columns"
   ]
  },
  {
   "cell_type": "code",
   "execution_count": 266,
   "metadata": {},
   "outputs": [],
   "source": [
    "random.shuffle(dl)\n",
    "dl_join = [{'qja': x['question_text'] + ' [SEP] ' + x['long_answer_html'], 'bool': x['boolean_answer']} for x in dl]"
   ]
  },
  {
   "cell_type": "code",
   "execution_count": 267,
   "metadata": {},
   "outputs": [
    {
     "data": {
      "text/html": [
       "<div>\n",
       "<style scoped>\n",
       "    .dataframe tbody tr th:only-of-type {\n",
       "        vertical-align: middle;\n",
       "    }\n",
       "\n",
       "    .dataframe tbody tr th {\n",
       "        vertical-align: top;\n",
       "    }\n",
       "\n",
       "    .dataframe thead th {\n",
       "        text-align: right;\n",
       "    }\n",
       "</style>\n",
       "<table border=\"1\" class=\"dataframe\">\n",
       "  <thead>\n",
       "    <tr style=\"text-align: right;\">\n",
       "      <th></th>\n",
       "      <th>qja</th>\n",
       "      <th>bool</th>\n",
       "    </tr>\n",
       "  </thead>\n",
       "  <tbody>\n",
       "    <tr>\n",
       "      <th>0</th>\n",
       "      <td>is the focal length of a convex lens negative [SEP] &lt;P&gt; For a thin lens in air , the focal length is the distance from the center of the lens to the principal foci ( or focal points ) of the lens ...</td>\n",
       "      <td>NO</td>\n",
       "    </tr>\n",
       "    <tr>\n",
       "      <th>1</th>\n",
       "      <td>have there been amendments proposed to change the electoral college [SEP] &lt;P&gt; The Twelfth Amendment ( Amendment XII ) to the United States Constitution provides the procedure for electing the Pres...</td>\n",
       "      <td>YES</td>\n",
       "    </tr>\n",
       "    <tr>\n",
       "      <th>2</th>\n",
       "      <td>is there going to be a now you see me 3 [SEP] &lt;P&gt; Now You See Me is a series of heist thriller film written by Ed Solomon , Boaz Yakin , and Edward Ricourt . They focus on the actions of a team of...</td>\n",
       "      <td>YES</td>\n",
       "    </tr>\n",
       "    <tr>\n",
       "      <th>3</th>\n",
       "      <td>a cutoff meander can become an oxbow lake [SEP] &lt;P&gt; An oxbow lake is a U shaped body of water that forms when a wide meander from the main stem of a river is cut off , creating a free - standing b...</td>\n",
       "      <td>YES</td>\n",
       "    </tr>\n",
       "    <tr>\n",
       "      <th>4</th>\n",
       "      <td>did the movie philadelphia win any academy awards [SEP] &lt;P&gt; Hanks won the Academy Award for Best Actor for his role as Andrew Beckett in the film , while the song `` Streets of Philadelphia '' by ...</td>\n",
       "      <td>YES</td>\n",
       "    </tr>\n",
       "    <tr>\n",
       "      <th>...</th>\n",
       "      <td>...</td>\n",
       "      <td>...</td>\n",
       "    </tr>\n",
       "    <tr>\n",
       "      <th>4428</th>\n",
       "      <td>is it illegal to talk on the phone while driving [SEP] &lt;Table&gt; &lt;Tr&gt; &lt;Th&gt; State &lt;/Th&gt; &lt;Th&gt; Total handheld device ban applied to : &lt;/Th&gt; &lt;Th&gt; Any cell phone use by driver prohibited if : &lt;/Th&gt; &lt;Th&gt; ...</td>\n",
       "      <td>NONE</td>\n",
       "    </tr>\n",
       "    <tr>\n",
       "      <th>4429</th>\n",
       "      <td>is the federal court the same as the supreme court [SEP] &lt;P&gt; The federal courts are composed of three levels of courts . The Supreme Court of the United States is the court of last resort . It is ...</td>\n",
       "      <td>NO</td>\n",
       "    </tr>\n",
       "    <tr>\n",
       "      <th>4430</th>\n",
       "      <td>are two members of little big town married to each other [SEP] &lt;P&gt; Karen Fairchild and Jimi Westbrook married on May 31 , 2006 , although their marriage was not disclosed until two months later . ...</td>\n",
       "      <td>YES</td>\n",
       "    </tr>\n",
       "    <tr>\n",
       "      <th>4431</th>\n",
       "      <td>will there be a new season of the strain [SEP] &lt;P&gt; On August 6 , 2014 , FX renewed The Strain for a 13 - episode second season which premiered on July 12 , 2015 . On August 7 , 2015 , FX renewed T...</td>\n",
       "      <td>NO</td>\n",
       "    </tr>\n",
       "    <tr>\n",
       "      <th>4432</th>\n",
       "      <td>can a 17 year old carry a gun in texas [SEP] &lt;Table&gt; &lt;Tr&gt; &lt;Th&gt; Subject / Law &lt;/Th&gt; &lt;Th&gt; Long guns &lt;/Th&gt; &lt;Th&gt; Handguns &lt;/Th&gt; &lt;Th&gt; Relevant Statutes &lt;/Th&gt; &lt;Th&gt; Notes &lt;/Th&gt; &lt;/Tr&gt; &lt;Tr&gt; &lt;Td&gt; State perm...</td>\n",
       "      <td>NO</td>\n",
       "    </tr>\n",
       "  </tbody>\n",
       "</table>\n",
       "<p>4433 rows × 2 columns</p>\n",
       "</div>"
      ],
      "text/plain": [
       "                                                                                                                                                                                                          qja  \\\n",
       "0     is the focal length of a convex lens negative [SEP] <P> For a thin lens in air , the focal length is the distance from the center of the lens to the principal foci ( or focal points ) of the lens ...   \n",
       "1     have there been amendments proposed to change the electoral college [SEP] <P> The Twelfth Amendment ( Amendment XII ) to the United States Constitution provides the procedure for electing the Pres...   \n",
       "2     is there going to be a now you see me 3 [SEP] <P> Now You See Me is a series of heist thriller film written by Ed Solomon , Boaz Yakin , and Edward Ricourt . They focus on the actions of a team of...   \n",
       "3     a cutoff meander can become an oxbow lake [SEP] <P> An oxbow lake is a U shaped body of water that forms when a wide meander from the main stem of a river is cut off , creating a free - standing b...   \n",
       "4     did the movie philadelphia win any academy awards [SEP] <P> Hanks won the Academy Award for Best Actor for his role as Andrew Beckett in the film , while the song `` Streets of Philadelphia '' by ...   \n",
       "...                                                                                                                                                                                                       ...   \n",
       "4428  is it illegal to talk on the phone while driving [SEP] <Table> <Tr> <Th> State </Th> <Th> Total handheld device ban applied to : </Th> <Th> Any cell phone use by driver prohibited if : </Th> <Th> ...   \n",
       "4429  is the federal court the same as the supreme court [SEP] <P> The federal courts are composed of three levels of courts . The Supreme Court of the United States is the court of last resort . It is ...   \n",
       "4430  are two members of little big town married to each other [SEP] <P> Karen Fairchild and Jimi Westbrook married on May 31 , 2006 , although their marriage was not disclosed until two months later . ...   \n",
       "4431  will there be a new season of the strain [SEP] <P> On August 6 , 2014 , FX renewed The Strain for a 13 - episode second season which premiered on July 12 , 2015 . On August 7 , 2015 , FX renewed T...   \n",
       "4432  can a 17 year old carry a gun in texas [SEP] <Table> <Tr> <Th> Subject / Law </Th> <Th> Long guns </Th> <Th> Handguns </Th> <Th> Relevant Statutes </Th> <Th> Notes </Th> </Tr> <Tr> <Td> State perm...   \n",
       "\n",
       "      bool  \n",
       "0       NO  \n",
       "1      YES  \n",
       "2      YES  \n",
       "3      YES  \n",
       "4      YES  \n",
       "...    ...  \n",
       "4428  NONE  \n",
       "4429    NO  \n",
       "4430   YES  \n",
       "4431    NO  \n",
       "4432    NO  \n",
       "\n",
       "[4433 rows x 2 columns]"
      ]
     },
     "execution_count": 267,
     "metadata": {},
     "output_type": "execute_result"
    }
   ],
   "source": [
    "df = pd.DataFrame(dl_join)\n",
    "df"
   ]
  },
  {
   "cell_type": "code",
   "execution_count": 268,
   "metadata": {},
   "outputs": [
    {
     "data": {
      "text/html": [
       "<div>\n",
       "<style scoped>\n",
       "    .dataframe tbody tr th:only-of-type {\n",
       "        vertical-align: middle;\n",
       "    }\n",
       "\n",
       "    .dataframe tbody tr th {\n",
       "        vertical-align: top;\n",
       "    }\n",
       "\n",
       "    .dataframe thead th {\n",
       "        text-align: right;\n",
       "    }\n",
       "</style>\n",
       "<table border=\"1\" class=\"dataframe\">\n",
       "  <thead>\n",
       "    <tr style=\"text-align: right;\">\n",
       "      <th></th>\n",
       "      <th>qja</th>\n",
       "      <th>bool</th>\n",
       "      <th>question_type</th>\n",
       "    </tr>\n",
       "  </thead>\n",
       "  <tbody>\n",
       "    <tr>\n",
       "      <th>0</th>\n",
       "      <td>is the focal length of a convex lens negative [SEP] &lt;P&gt; For a thin lens in air , the focal length is the distance from the center of the lens to the principal foci ( or focal points ) of the lens ...</td>\n",
       "      <td>NO</td>\n",
       "      <td>is</td>\n",
       "    </tr>\n",
       "    <tr>\n",
       "      <th>1</th>\n",
       "      <td>have there been amendments proposed to change the electoral college [SEP] &lt;P&gt; The Twelfth Amendment ( Amendment XII ) to the United States Constitution provides the procedure for electing the Pres...</td>\n",
       "      <td>YES</td>\n",
       "      <td>have</td>\n",
       "    </tr>\n",
       "    <tr>\n",
       "      <th>2</th>\n",
       "      <td>is there going to be a now you see me 3 [SEP] &lt;P&gt; Now You See Me is a series of heist thriller film written by Ed Solomon , Boaz Yakin , and Edward Ricourt . They focus on the actions of a team of...</td>\n",
       "      <td>YES</td>\n",
       "      <td>is</td>\n",
       "    </tr>\n",
       "    <tr>\n",
       "      <th>3</th>\n",
       "      <td>a cutoff meander can become an oxbow lake [SEP] &lt;P&gt; An oxbow lake is a U shaped body of water that forms when a wide meander from the main stem of a river is cut off , creating a free - standing b...</td>\n",
       "      <td>YES</td>\n",
       "      <td>a</td>\n",
       "    </tr>\n",
       "    <tr>\n",
       "      <th>4</th>\n",
       "      <td>did the movie philadelphia win any academy awards [SEP] &lt;P&gt; Hanks won the Academy Award for Best Actor for his role as Andrew Beckett in the film , while the song `` Streets of Philadelphia '' by ...</td>\n",
       "      <td>YES</td>\n",
       "      <td>did</td>\n",
       "    </tr>\n",
       "    <tr>\n",
       "      <th>...</th>\n",
       "      <td>...</td>\n",
       "      <td>...</td>\n",
       "      <td>...</td>\n",
       "    </tr>\n",
       "    <tr>\n",
       "      <th>4428</th>\n",
       "      <td>is it illegal to talk on the phone while driving [SEP] &lt;Table&gt; &lt;Tr&gt; &lt;Th&gt; State &lt;/Th&gt; &lt;Th&gt; Total handheld device ban applied to : &lt;/Th&gt; &lt;Th&gt; Any cell phone use by driver prohibited if : &lt;/Th&gt; &lt;Th&gt; ...</td>\n",
       "      <td>NONE</td>\n",
       "      <td>is</td>\n",
       "    </tr>\n",
       "    <tr>\n",
       "      <th>4429</th>\n",
       "      <td>is the federal court the same as the supreme court [SEP] &lt;P&gt; The federal courts are composed of three levels of courts . The Supreme Court of the United States is the court of last resort . It is ...</td>\n",
       "      <td>NO</td>\n",
       "      <td>is</td>\n",
       "    </tr>\n",
       "    <tr>\n",
       "      <th>4430</th>\n",
       "      <td>are two members of little big town married to each other [SEP] &lt;P&gt; Karen Fairchild and Jimi Westbrook married on May 31 , 2006 , although their marriage was not disclosed until two months later . ...</td>\n",
       "      <td>YES</td>\n",
       "      <td>are</td>\n",
       "    </tr>\n",
       "    <tr>\n",
       "      <th>4431</th>\n",
       "      <td>will there be a new season of the strain [SEP] &lt;P&gt; On August 6 , 2014 , FX renewed The Strain for a 13 - episode second season which premiered on July 12 , 2015 . On August 7 , 2015 , FX renewed T...</td>\n",
       "      <td>NO</td>\n",
       "      <td>will</td>\n",
       "    </tr>\n",
       "    <tr>\n",
       "      <th>4432</th>\n",
       "      <td>can a 17 year old carry a gun in texas [SEP] &lt;Table&gt; &lt;Tr&gt; &lt;Th&gt; Subject / Law &lt;/Th&gt; &lt;Th&gt; Long guns &lt;/Th&gt; &lt;Th&gt; Handguns &lt;/Th&gt; &lt;Th&gt; Relevant Statutes &lt;/Th&gt; &lt;Th&gt; Notes &lt;/Th&gt; &lt;/Tr&gt; &lt;Tr&gt; &lt;Td&gt; State perm...</td>\n",
       "      <td>NO</td>\n",
       "      <td>can</td>\n",
       "    </tr>\n",
       "  </tbody>\n",
       "</table>\n",
       "<p>4433 rows × 3 columns</p>\n",
       "</div>"
      ],
      "text/plain": [
       "                                                                                                                                                                                                          qja  \\\n",
       "0     is the focal length of a convex lens negative [SEP] <P> For a thin lens in air , the focal length is the distance from the center of the lens to the principal foci ( or focal points ) of the lens ...   \n",
       "1     have there been amendments proposed to change the electoral college [SEP] <P> The Twelfth Amendment ( Amendment XII ) to the United States Constitution provides the procedure for electing the Pres...   \n",
       "2     is there going to be a now you see me 3 [SEP] <P> Now You See Me is a series of heist thriller film written by Ed Solomon , Boaz Yakin , and Edward Ricourt . They focus on the actions of a team of...   \n",
       "3     a cutoff meander can become an oxbow lake [SEP] <P> An oxbow lake is a U shaped body of water that forms when a wide meander from the main stem of a river is cut off , creating a free - standing b...   \n",
       "4     did the movie philadelphia win any academy awards [SEP] <P> Hanks won the Academy Award for Best Actor for his role as Andrew Beckett in the film , while the song `` Streets of Philadelphia '' by ...   \n",
       "...                                                                                                                                                                                                       ...   \n",
       "4428  is it illegal to talk on the phone while driving [SEP] <Table> <Tr> <Th> State </Th> <Th> Total handheld device ban applied to : </Th> <Th> Any cell phone use by driver prohibited if : </Th> <Th> ...   \n",
       "4429  is the federal court the same as the supreme court [SEP] <P> The federal courts are composed of three levels of courts . The Supreme Court of the United States is the court of last resort . It is ...   \n",
       "4430  are two members of little big town married to each other [SEP] <P> Karen Fairchild and Jimi Westbrook married on May 31 , 2006 , although their marriage was not disclosed until two months later . ...   \n",
       "4431  will there be a new season of the strain [SEP] <P> On August 6 , 2014 , FX renewed The Strain for a 13 - episode second season which premiered on July 12 , 2015 . On August 7 , 2015 , FX renewed T...   \n",
       "4432  can a 17 year old carry a gun in texas [SEP] <Table> <Tr> <Th> Subject / Law </Th> <Th> Long guns </Th> <Th> Handguns </Th> <Th> Relevant Statutes </Th> <Th> Notes </Th> </Tr> <Tr> <Td> State perm...   \n",
       "\n",
       "      bool question_type  \n",
       "0       NO            is  \n",
       "1      YES          have  \n",
       "2      YES            is  \n",
       "3      YES             a  \n",
       "4      YES           did  \n",
       "...    ...           ...  \n",
       "4428  NONE            is  \n",
       "4429    NO            is  \n",
       "4430   YES           are  \n",
       "4431    NO          will  \n",
       "4432    NO           can  \n",
       "\n",
       "[4433 rows x 3 columns]"
      ]
     },
     "execution_count": 268,
     "metadata": {},
     "output_type": "execute_result"
    }
   ],
   "source": [
    "df['question_type'] = df['qja'].apply(lambda x: x.split(' ')[0])\n",
    "df"
   ]
  },
  {
   "cell_type": "code",
   "execution_count": 270,
   "metadata": {},
   "outputs": [],
   "source": [
    "# df['qja'] = df['qja'].str.replace('[^\\w\\s\\<\\>\\/]','') # drop punctuation signs; keep html tags\n",
    "# df"
   ]
  },
  {
   "cell_type": "code",
   "execution_count": 271,
   "metadata": {},
   "outputs": [
    {
     "data": {
      "text/plain": [
       "is      1705\n",
       "can      490\n",
       "do       457\n",
       "does     449\n",
       "are      281\n",
       "did      189\n",
       "has      133\n",
       "was      130\n",
       "Name: question_type, dtype: int64"
      ]
     },
     "execution_count": 271,
     "metadata": {},
     "output_type": "execute_result"
    }
   ],
   "source": [
    "df['question_type'].value_counts().head(8)"
   ]
  },
  {
   "cell_type": "code",
   "execution_count": 272,
   "metadata": {},
   "outputs": [
    {
     "data": {
      "text/html": [
       "<div>\n",
       "<style scoped>\n",
       "    .dataframe tbody tr th:only-of-type {\n",
       "        vertical-align: middle;\n",
       "    }\n",
       "\n",
       "    .dataframe tbody tr th {\n",
       "        vertical-align: top;\n",
       "    }\n",
       "\n",
       "    .dataframe thead th {\n",
       "        text-align: right;\n",
       "    }\n",
       "</style>\n",
       "<table border=\"1\" class=\"dataframe\">\n",
       "  <thead>\n",
       "    <tr style=\"text-align: right;\">\n",
       "      <th></th>\n",
       "      <th>qja</th>\n",
       "      <th>question_type</th>\n",
       "    </tr>\n",
       "    <tr>\n",
       "      <th>bool</th>\n",
       "      <th></th>\n",
       "      <th></th>\n",
       "    </tr>\n",
       "  </thead>\n",
       "  <tbody>\n",
       "    <tr>\n",
       "      <th>NO</th>\n",
       "      <td>1439</td>\n",
       "      <td>1439</td>\n",
       "    </tr>\n",
       "    <tr>\n",
       "      <th>NONE</th>\n",
       "      <td>635</td>\n",
       "      <td>635</td>\n",
       "    </tr>\n",
       "    <tr>\n",
       "      <th>YES</th>\n",
       "      <td>2359</td>\n",
       "      <td>2359</td>\n",
       "    </tr>\n",
       "  </tbody>\n",
       "</table>\n",
       "</div>"
      ],
      "text/plain": [
       "       qja  question_type\n",
       "bool                     \n",
       "NO    1439           1439\n",
       "NONE   635            635\n",
       "YES   2359           2359"
      ]
     },
     "execution_count": 272,
     "metadata": {},
     "output_type": "execute_result"
    }
   ],
   "source": [
    "df.groupby('bool').count()"
   ]
  },
  {
   "cell_type": "code",
   "execution_count": 273,
   "metadata": {},
   "outputs": [
    {
     "data": {
      "text/plain": [
       "(array(['NO', 'NONE', 'YES'], dtype=object), array([1439,  635, 2359]))"
      ]
     },
     "execution_count": 273,
     "metadata": {},
     "output_type": "execute_result"
    }
   ],
   "source": [
    "np.unique(df[['bool']].values, return_counts=True)"
   ]
  },
  {
   "cell_type": "code",
   "execution_count": 274,
   "metadata": {},
   "outputs": [
    {
     "data": {
      "text/plain": [
       "YES     0.532145\n",
       "NO      0.324611\n",
       "NONE    0.143244\n",
       "Name: bool, dtype: float64"
      ]
     },
     "execution_count": 274,
     "metadata": {},
     "output_type": "execute_result"
    }
   ],
   "source": [
    "df['bool'].value_counts().apply(lambda x: x / df['bool'].count())"
   ]
  },
  {
   "cell_type": "code",
   "execution_count": 275,
   "metadata": {},
   "outputs": [
    {
     "data": {
      "text/plain": [
       "Index(['qja', 'bool', 'question_type'], dtype='object')"
      ]
     },
     "execution_count": 275,
     "metadata": {},
     "output_type": "execute_result"
    }
   ],
   "source": [
    "df.columns\n",
    "# x = df[['qja']] # x = df[['question_text', 'long_answer_html']]\n",
    "# y = df['bool']\n",
    "# x_train, x_test, y_train, y_test = train_test_split(x, y, test_size=0.2)\n",
    "# y_train.value_counts().apply(lambda x: x / y_train.count())\n",
    "# y_test.value_counts().apply(lambda x: x / y_test.count())"
   ]
  },
  {
   "cell_type": "code",
   "execution_count": 276,
   "metadata": {},
   "outputs": [],
   "source": [
    "from sklearn.preprocessing import LabelEncoder\n",
    "encoder = LabelEncoder()"
   ]
  },
  {
   "cell_type": "code",
   "execution_count": 277,
   "metadata": {},
   "outputs": [
    {
     "data": {
      "text/plain": [
       "array([[1., 0., 0.],\n",
       "       [0., 0., 1.],\n",
       "       [0., 0., 1.],\n",
       "       ...,\n",
       "       [0., 0., 1.],\n",
       "       [1., 0., 0.],\n",
       "       [1., 0., 0.]], dtype=float32)"
      ]
     },
     "execution_count": 277,
     "metadata": {},
     "output_type": "execute_result"
    }
   ],
   "source": [
    "Y = df['bool']\n",
    "encoder.fit(Y)\n",
    "Y = encoder.transform(Y)\n",
    "Y = tf.keras.utils.to_categorical(Y, num_classes=3);Y"
   ]
  },
  {
   "cell_type": "code",
   "execution_count": 278,
   "metadata": {},
   "outputs": [],
   "source": [
    "import tensorflow as tf\n",
    "max_features = 10000\n",
    "tok = tf.keras.preprocessing.text.Tokenizer(num_words=max_features)"
   ]
  },
  {
   "cell_type": "code",
   "execution_count": 279,
   "metadata": {},
   "outputs": [],
   "source": [
    "lq = list(df['qja'])"
   ]
  },
  {
   "cell_type": "code",
   "execution_count": 280,
   "metadata": {},
   "outputs": [
    {
     "name": "stdout",
     "output_type": "stream",
     "text": [
      "49895\n"
     ]
    }
   ],
   "source": [
    "tok.fit_on_texts(lq)\n",
    "print(len(tok.word_index))\n",
    "vocab_size = len(tok.word_index) + 1 # 49896"
   ]
  },
  {
   "cell_type": "code",
   "execution_count": 281,
   "metadata": {},
   "outputs": [],
   "source": [
    "X = tok.texts_to_sequences(lq)"
   ]
  },
  {
   "cell_type": "code",
   "execution_count": 282,
   "metadata": {},
   "outputs": [],
   "source": [
    "# sorted(list(enumerate([len(x) for x in qja_m])), key=lambda x: x[1], reverse=True)"
   ]
  },
  {
   "cell_type": "code",
   "execution_count": 283,
   "metadata": {},
   "outputs": [
    {
     "data": {
      "text/plain": [
       "22946"
      ]
     },
     "execution_count": 283,
     "metadata": {},
     "output_type": "execute_result"
    }
   ],
   "source": [
    "maxlen = max([len(x) for x in X]); maxlen"
   ]
  },
  {
   "cell_type": "code",
   "execution_count": 284,
   "metadata": {},
   "outputs": [
    {
     "data": {
      "text/html": [
       "<div>\n",
       "<style scoped>\n",
       "    .dataframe tbody tr th:only-of-type {\n",
       "        vertical-align: middle;\n",
       "    }\n",
       "\n",
       "    .dataframe tbody tr th {\n",
       "        vertical-align: top;\n",
       "    }\n",
       "\n",
       "    .dataframe thead th {\n",
       "        text-align: right;\n",
       "    }\n",
       "</style>\n",
       "<table border=\"1\" class=\"dataframe\">\n",
       "  <thead>\n",
       "    <tr style=\"text-align: right;\">\n",
       "      <th></th>\n",
       "      <th>0</th>\n",
       "    </tr>\n",
       "  </thead>\n",
       "  <tbody>\n",
       "    <tr>\n",
       "      <th>count</th>\n",
       "      <td>4433.000000</td>\n",
       "    </tr>\n",
       "    <tr>\n",
       "      <th>mean</th>\n",
       "      <td>424.673133</td>\n",
       "    </tr>\n",
       "    <tr>\n",
       "      <th>std</th>\n",
       "      <td>1380.481940</td>\n",
       "    </tr>\n",
       "    <tr>\n",
       "      <th>min</th>\n",
       "      <td>13.000000</td>\n",
       "    </tr>\n",
       "    <tr>\n",
       "      <th>25%</th>\n",
       "      <td>68.000000</td>\n",
       "    </tr>\n",
       "    <tr>\n",
       "      <th>50%</th>\n",
       "      <td>101.000000</td>\n",
       "    </tr>\n",
       "    <tr>\n",
       "      <th>75%</th>\n",
       "      <td>157.000000</td>\n",
       "    </tr>\n",
       "    <tr>\n",
       "      <th>max</th>\n",
       "      <td>22946.000000</td>\n",
       "    </tr>\n",
       "  </tbody>\n",
       "</table>\n",
       "</div>"
      ],
      "text/plain": [
       "                  0\n",
       "count   4433.000000\n",
       "mean     424.673133\n",
       "std     1380.481940\n",
       "min       13.000000\n",
       "25%       68.000000\n",
       "50%      101.000000\n",
       "75%      157.000000\n",
       "max    22946.000000"
      ]
     },
     "execution_count": 284,
     "metadata": {},
     "output_type": "execute_result"
    }
   ],
   "source": [
    "pd.DataFrame([len(x) for x in X]).describe()"
   ]
  },
  {
   "cell_type": "code",
   "execution_count": 285,
   "metadata": {},
   "outputs": [],
   "source": [
    "maxlen = 1500 # 1500"
   ]
  },
  {
   "cell_type": "code",
   "execution_count": 286,
   "metadata": {},
   "outputs": [
    {
     "data": {
      "text/plain": [
       "array([[   0,    0,    0, ...,    3, 6330,   18],\n",
       "       [   0,    0,    0, ...,  150,   98,   18],\n",
       "       [   0,    0,    0, ...,  387, 2086,   18],\n",
       "       ...,\n",
       "       [   0,    0,    0, ...,   12, 5141,   18],\n",
       "       [   0,    0,    0, ...,  423, 1187,   18],\n",
       "       [   0,    0,    0, ...,    1,    2,   97]], dtype=int32)"
      ]
     },
     "execution_count": 286,
     "metadata": {},
     "output_type": "execute_result"
    }
   ],
   "source": [
    "X = tf.keras.preprocessing.sequence.pad_sequences(X, maxlen=maxlen); X"
   ]
  },
  {
   "cell_type": "code",
   "execution_count": 287,
   "metadata": {},
   "outputs": [],
   "source": [
    "x_train, x_test, y_train, y_test = train_test_split(X, Y, test_size=0.2, random_state=4321)"
   ]
  },
  {
   "cell_type": "code",
   "execution_count": 288,
   "metadata": {},
   "outputs": [],
   "source": [
    "embedding_dim = 500 # 500"
   ]
  },
  {
   "cell_type": "code",
   "execution_count": 289,
   "metadata": {},
   "outputs": [],
   "source": [
    "model = tf.keras.models.Sequential([\n",
    "  tf.keras.layers.Embedding(input_dim=vocab_size,    # embedding input\n",
    "                           output_dim=embedding_dim, # embedding output\n",
    "                           input_length=maxlen),     # maximum length of an input sequence\n",
    "  tf.keras.layers.Flatten(),                         # flatten layer\n",
    "  tf.keras.layers.Dense(30, activation=tf.nn.relu),  # 30\n",
    "  tf.keras.layers.Dense(20, activation=tf.nn.relu),  # 200\n",
    "  tf.keras.layers.Dense(9, activation=tf.nn.relu),   # 100\n",
    "  tf.keras.layers.Dense(3, activation=tf.nn.softmax) # ouput layer a Dense layer with 3 probabilities\n",
    "])                                                   # activation function which is the softmax function "
   ]
  },
  {
   "cell_type": "code",
   "execution_count": 290,
   "metadata": {},
   "outputs": [],
   "source": [
    "model.compile(optimizer='adam', loss='categorical_crossentropy', metrics=['accuracy'])"
   ]
  },
  {
   "cell_type": "code",
   "execution_count": 291,
   "metadata": {},
   "outputs": [
    {
     "name": "stdout",
     "output_type": "stream",
     "text": [
      "Model: \"sequential_40\"\n",
      "_________________________________________________________________\n",
      "Layer (type)                 Output Shape              Param #   \n",
      "=================================================================\n",
      "embedding_40 (Embedding)     (None, 1500, 500)         24948000  \n",
      "_________________________________________________________________\n",
      "flatten_40 (Flatten)         (None, 750000)            0         \n",
      "_________________________________________________________________\n",
      "dense_160 (Dense)            (None, 30)                22500030  \n",
      "_________________________________________________________________\n",
      "dense_161 (Dense)            (None, 20)                620       \n",
      "_________________________________________________________________\n",
      "dense_162 (Dense)            (None, 9)                 189       \n",
      "_________________________________________________________________\n",
      "dense_163 (Dense)            (None, 3)                 30        \n",
      "=================================================================\n",
      "Total params: 47,448,869\n",
      "Trainable params: 47,448,869\n",
      "Non-trainable params: 0\n",
      "_________________________________________________________________\n"
     ]
    }
   ],
   "source": [
    "model.summary()"
   ]
  },
  {
   "cell_type": "code",
   "execution_count": 292,
   "metadata": {},
   "outputs": [
    {
     "name": "stdout",
     "output_type": "stream",
     "text": [
      "Train on 3546 samples\n",
      "Epoch 1/7\n",
      "3546/3546 [==============================] - 39s 11ms/sample - loss: 1.0441 - accuracy: 0.5327\n",
      "Epoch 2/7\n",
      "3546/3546 [==============================] - 37s 10ms/sample - loss: 0.9055 - accuracy: 0.5485\n",
      "Epoch 3/7\n",
      "3546/3546 [==============================] - 37s 10ms/sample - loss: 0.6571 - accuracy: 0.6562\n",
      "Epoch 4/7\n",
      "3546/3546 [==============================] - 37s 11ms/sample - loss: 0.5370 - accuracy: 0.7143\n",
      "Epoch 5/7\n",
      "3546/3546 [==============================] - 37s 11ms/sample - loss: 0.4685 - accuracy: 0.8195\n",
      "Epoch 6/7\n",
      "3546/3546 [==============================] - 38s 11ms/sample - loss: 0.3647 - accuracy: 0.9024\n",
      "Epoch 7/7\n",
      "3546/3546 [==============================] - 38s 11ms/sample - loss: 0.3064 - accuracy: 0.9320\n"
     ]
    },
    {
     "data": {
      "text/plain": [
       "<tensorflow.python.keras.callbacks.History at 0x1a221aa210>"
      ]
     },
     "execution_count": 292,
     "metadata": {},
     "output_type": "execute_result"
    }
   ],
   "source": [
    "model.fit(np.array(x_train), np.array(y_train), epochs=7)"
   ]
  },
  {
   "cell_type": "code",
   "execution_count": 293,
   "metadata": {},
   "outputs": [
    {
     "name": "stdout",
     "output_type": "stream",
     "text": [
      "['loss', 'accuracy']\n"
     ]
    },
    {
     "data": {
      "text/plain": [
       "[1.188759573148364, 0.6489966]"
      ]
     },
     "execution_count": 293,
     "metadata": {},
     "output_type": "execute_result"
    }
   ],
   "source": [
    "print(model.metrics_names)\n",
    "model.evaluate(np.array(x_test), np.array(y_test), verbose=0)"
   ]
  },
  {
   "cell_type": "code",
   "execution_count": null,
   "metadata": {},
   "outputs": [],
   "source": []
  },
  {
   "cell_type": "code",
   "execution_count": null,
   "metadata": {},
   "outputs": [],
   "source": []
  }
 ],
 "metadata": {
  "kernelspec": {
   "display_name": "Python 3",
   "language": "python",
   "name": "python3"
  },
  "language_info": {
   "codemirror_mode": {
    "name": "ipython",
    "version": 3
   },
   "file_extension": ".py",
   "mimetype": "text/x-python",
   "name": "python",
   "nbconvert_exporter": "python",
   "pygments_lexer": "ipython3",
   "version": "3.7.6"
  }
 },
 "nbformat": 4,
 "nbformat_minor": 4
}
